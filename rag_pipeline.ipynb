{
 "cells": [
  {
   "cell_type": "code",
   "execution_count": 1,
   "id": "17d2fc2e",
   "metadata": {},
   "outputs": [],
   "source": [
    "# Step 1: Load Combined QA Pairs\n",
    "import json\n",
    "from typing import List\n",
    "\n",
    "with open(\"data_preprocessing/output/combined_qa.json\", \"r\", encoding=\"utf-8\") as f:\n",
    "    qa_data = json.load(f)"
   ]
  },
  {
   "cell_type": "code",
   "execution_count": 2,
   "id": "b0ece32a",
   "metadata": {},
   "outputs": [],
   "source": [
    "# Step 2: Prepare Documents for Embedding\n",
    "documents = [f\"Q: {item['question']}\\nA: {item['answer']}\" for item in qa_data]"
   ]
  },
  {
   "cell_type": "code",
   "execution_count": 11,
   "id": "e6fc2f8c",
   "metadata": {},
   "outputs": [],
   "source": [
    "# # Save documents to a JSON file\n",
    "# with open(\"data_preprocessing/output/documents.json\", \"w\", encoding=\"utf-8\") as f:\n",
    "#     json.dump(documents, f, indent=2, ensure_ascii=False)"
   ]
  },
  {
   "cell_type": "code",
   "execution_count": 3,
   "id": "90e5a4af",
   "metadata": {},
   "outputs": [
    {
     "data": {
      "text/plain": [
       "['Q: What is the profit payment for NUST Asaan Account Savings Account?\\nA: It is: Semi-Annually',\n",
       " 'Q: What is the profit rate for NUST Asaan Account Savings Account?\\nA: It is: 19.00%',\n",
       " 'Q: What is the profit payment for PLS Savings Savings Account?\\nA: It is: Semi-Annually',\n",
       " 'Q: What is the profit rate for PLS Savings Savings Account?\\nA: It is: 19.00%',\n",
       " 'Q: What is the profit payment for Little Champs Account Savings Account?\\nA: It is: Semi-Annually',\n",
       " 'Q: What is the profit rate for Little Champs Account Savings Account?\\nA: It is: 19.00%',\n",
       " 'Q: What is the profit payment for NUST Special Deposit Account (ASDA) Savings Account?\\nA: It is: Monthly/Semi-Annually',\n",
       " 'Q: What is the profit rate for NUST Special Deposit Account (ASDA) Savings Account?\\nA: It is: 19.00%',\n",
       " 'Q: What is the profit payment for NUST Waqaar Account - Senior Citizen Savings Account?\\nA: It is: Monthly',\n",
       " 'Q: What is the profit rate for NUST Waqaar Account - Senior Citizen Savings Account?\\nA: It is: 19.00%',\n",
       " 'Q: What is the profit payment for PakWatan Remittance Account Savings Account?\\nA: It is: Monthly',\n",
       " 'Q: What is the profit rate for PakWatan Remittance Account Savings Account?\\nA: It is: 19.00%',\n",
       " 'Q: What is the profit payment for NUST Sahar Savings Account Savings Account?\\nA: It is: Monthly',\n",
       " 'Q: What is the profit rate for NUST Sahar Savings Account Savings Account?\\nA: It is: 19.00%',\n",
       " 'Q: What is the profit payment for NUST Maximiser Savings Account Savings Account?\\nA: It is: Monthly, Quarterly, Semi-Annually, Annually',\n",
       " 'Q: What is the profit rate for NUST Maximiser Savings Account Savings Account?\\nA: It is: 19.00%, 19.05%, 19.10%, 19.15%',\n",
       " 'Q: What is the profit payment for PLS Pensioners Account Savings Account?\\nA: It is: Semi-Annually',\n",
       " 'Q: What is the profit rate for PLS Pensioners Account Savings Account?\\nA: It is: 19.25%',\n",
       " 'Q: What is the tenor for Short Notice Deposit Receipt (SNDR) Term Deposit?\\nA: It is: 7 Days, 29 Days',\n",
       " 'Q: What is the payout for Short Notice Deposit Receipt (SNDR) Term Deposit?\\nA: It is: Maturity',\n",
       " 'Q: What is the profit rate for Short Notice Deposit Receipt (SNDR) Term Deposit?\\nA: It is: 16.50%, 16.50%',\n",
       " 'Q: What is the tenor for Term Deposits Term Deposit?\\nA: It is: One Month, Two Months, Three Months, Six Months, One Year, Two Years, Three Years, Five Years',\n",
       " 'Q: What is the payout for Term Deposits Term Deposit?\\nA: It is: Maturity',\n",
       " 'Q: What is the profit rate for Term Deposits Term Deposit?\\nA: It is: 17.00%, 17.00%, 17.00%, 17.00%, 17.50%, 15.50%, 15.00%, 14.00%',\n",
       " 'Q: What is the tenor for NUST Waqaar Account - Senior Citizen - Term Deposit Term Deposit?\\nA: It is: Three Months, Six Months, Six Months',\n",
       " 'Q: What is the payout for NUST Waqaar Account - Senior Citizen - Term Deposit Term Deposit?\\nA: It is: Monthly, Monthly, Quarterly',\n",
       " 'Q: What is the profit rate for NUST Waqaar Account - Senior Citizen - Term Deposit Term Deposit?\\nA: It is: 16.00%, 16.00%, 16.25%',\n",
       " 'Q: What is the tenor for NUST Sahar - Term Deposit Term Deposit?\\nA: It is: One Year, Three Years, Five Years',\n",
       " 'Q: What is the payout for NUST Sahar - Term Deposit Term Deposit?\\nA: It is: Monthly',\n",
       " 'Q: What is the profit rate for NUST Sahar - Term Deposit Term Deposit?\\nA: It is: 17.00%, 14.00%, 13.25%',\n",
       " 'Q: What is the tenor for NUST Maximiser - Term Deposit Term Deposit?\\nA: It is: One Year, Two Years',\n",
       " 'Q: What is the payout for NUST Maximiser - Term Deposit Term Deposit?\\nA: It is: Monthly, Monthly/ Quarterly/ Annual',\n",
       " 'Q: What is the profit rate for NUST Maximiser - Term Deposit Term Deposit?\\nA: It is: 15.00%, 13.00%',\n",
       " 'Q: What is the tenor for PLS Pensioners Account - Term Deposit Term Deposit?\\nA: It is: One Year, Two Years, Three Years, Five Years',\n",
       " 'Q: What is the payout for PLS Pensioners Account - Term Deposit Term Deposit?\\nA: It is: Monthly',\n",
       " 'Q: What is the profit rate for PLS Pensioners Account - Term Deposit Term Deposit?\\nA: It is: 16.75%, 14.25%, 13.75%, 13.00%',\n",
       " 'Q: What is the tenor for FCY Term Deposit?\\nA: It is: Savings Account, Term Deposits',\n",
       " 'Q: What is the profit rate for FCY Term Deposit?\\nA: It is: USD: 0.25%, GBP: 0.25%, EUR: 0.00%, USD: 0.25%, GBP: 0.25%, EUR: 0.00%',\n",
       " 'Q: I would like to open an account with my son, do u have any product for kids? for Little Champs Account\\nA: Yes our product is Little Champs Account. It is designed specifically for minors (individuals below the age of 18 years). A child requires the help of a parental/legal guardian to open this account and avail its facilities. Little Champs get a Debit Card and chequebook which is free the first time',\n",
       " 'Q: What are the main Features  of the Little Champs Account. for Little Champs Account\\nA: Minimum initial deposit of Rs.100/- Little Champs Savings A/C Free first chequebook* Profit Payment Profit Rate Free debit card* (annual/replacement fees apply). This debit card has the following limits Semi-Annually 0.19 Daily funds Transfer Limit: Rs.100,000/- Daily ATM Withdrawal Limit: Rs.25,000/- Daily POS Limit: Rs.50,000/- * For Current Account only',\n",
       " 'Q: What other Value added features does the Little Champs Account have? for Little Champs Account\\nA: Attractive returns on savings account SMS alert service on digital transactions I Net banking services Free education insurance plan – Rs.5,000/- per month for 5 years on savings account & Rs.10,000 per month for 5 years on current account in case of death of the guardian',\n",
       " 'Q: What is the account type of Little Champs Account is it saving or current ? for Little Champs Account\\nA: This account is offered both in current and savings categories',\n",
       " 'Q: How can the minor operate this account? for Little Champs Account\\nA: This account is opened in the name of the minor. However, a minor needs a guardian’s help to avail the account’s facilities A minor can use the account any time – which means he or she can make deposits or take money out at any time with the guardian’s help.',\n",
       " 'Q: What documents are required to open a Little Champs Account. for Little Champs Account\\nA: · A photocopy of Form-B, Birth Certificate or Student ID card (as appropriate) of the minor · A photocopy of any one of the following valid identity documents of the guardian of the minor: 1. Computerized National Identity Card (CNIC) issued by NADRA 2. National Identity Card for Overseas Pakistani (NICOP) issued by NADRA 3. Pakistan Origin Card (POC) issued by NADRA 4. Alien\\xa0Registration Card (ARC) issued by National Aliens Registration Authority (NARA), Ministry of Interior (local currency account only) 5. Passport, with a valid visa or any other proof of legal stay along with passport (foreign national individuals only) 6. Source of income of guardian',\n",
       " 'Q: What is the Eligibility Criteria for NAA? for NUST Asaan Account (NAA)\\nA: Resident Pakistani individuals who do not maintain/have any other account (single or joint) in NUST Bank Limited are eligible to open the NAA in Pak rupees as a single/joint account.',\n",
       " 'Q: What is the account type of NAA? for NUST Asaan Account (NAA)\\nA: NAA can be opened both in Current & Savings',\n",
       " 'Q: What is the opening and minimum balance requirement in NAA? for NUST Asaan Account (NAA)\\nA: Account can be opened with Rs.100/ and there is\\xa0No minimum balance requirement.',\n",
       " 'Q: What are the basic Features  of NUST Asaan Account? for NUST Asaan Account (NAA)\\nA: NUST Asaan Account o\\xa0Bi-annual account statements Profit Payment Profit Rate o\\xa0No service charges for account opening & closing Semi-Annually 0.19 o\\xa0Free PayPak Debit Card issuance* (subsequent charges apply as per the prevailing Schedule of Charges) o\\xa0Free SMS Alerts on digital transaction o\\xa0Free E-statements o\\xa0Free I-Net banking / Mobile Banking o Free Inter Branch Online Cash Withdrawal/ Deposit (Online) o\\xa0Free Internal Fund Transfer within NUST via branch (Online Transfer) o\\xa0Transaction limit is Rs. 1,000,000/- for total credit balance and total debit per month o\\xa0Cross border (outward) transactions shall not be allowed except in case of international transactions carried out through debit cards o\\xa0Customers can place their funds in Bank’s prescribed TDR products. However, the maximum credit balance limit will be inclusive of funds placed in TDRs * For Current Account only',\n",
       " 'Q: What is the Profit rate on NAA Savings account? for NUST Asaan Account (NAA)\\nA: Current profit rate is 20.50% which is paid Semi Annually.',\n",
       " 'Q: Does your bank offer any account for senior citizens? for NUST Waqaar Accounts\\nA: NUST Waqaar Account has been developed for senior citizens, enabling them to carry out their banking transactions and also to avail investment opportunities.',\n",
       " 'Q: What are the salient features of NUST Waqaar Account ? for NUST Waqaar Accounts\\nA: Savings Term Deposit Profit Payment Tenure – 1 year Savings: 0.19 Minimum Age to qualify 55 years 55 years Profit Calculation Monthly Average Balance – Term Deposit: Profit Payment frequency Monthly Monthly Tenure Payout Profit Rate Debit Card & Cheque Book Debit Card & Cheque Book issuance as per prevailing SOC Debit Card & Cheque Book issuance as per prevailing SOC (for linked account) One Year Monthly 0.1675 Currency PKR PKR',\n",
       " 'Q: What identity documents are required to open NUST Waqaar Account? for NUST Waqaar Accounts\\nA: A photocopy of any one of the following valid identity documents: National Identity Card (CNIC) issued by NADRA National Identity Card for Overseas Pakistani (NICOP) issued by NADRA Pakistan Origin Card (POC) issued by NADRA Passport, having valid visa on it or any other proof of legal stay along with passport (foreign national individuals only)',\n",
       " 'Q: What is the minimum age to qualify for opening of  NUST Waqaar Account & Minimum deposit requirement ? for NUST Waqaar Accounts\\nA: Minimum age to qualify is 55 years In case of a joint account, primary account holder must satisfy the age criteria',\n",
       " 'Q: What is the minimum deposit requirement to open NUST Waqaar Savings Account & NUST Waqaar Term Deposit? for NUST Waqaar Accounts\\nA: - Minimum deposit for opening of the NUST Waqaar – Savings account is Rs.1,000 - Minimum deposit for opening an NUST Waqaar – Term Deposit account is Rs.25,000 - Note: Customer must be an account holder of NUST for placement of funds in NUST Waqaar-Term Deposit',\n",
       " 'Q: Is there any account NUST Bank is offering for remittance purposes ? for PakWatan Remittance Account\\nA: Yes PakWatan Remittance Account. Through the PakWatan Remittance Account, beneficiaries can quickly and securely receive remittances from their loved one living abroad directly into their bank account without visiting the branch.',\n",
       " 'Q: What are initial/minimum balance requirements for PakWatan Remittance Account? for PakWatan Remittance Account\\nA: No initial deposit requirement No minimum balance requirement',\n",
       " 'Q: Are Local Credits allowed in PakWatan Remittance Account? for PakWatan Remittance Account\\nA: Local credits are also allowed in PakWatan Remittance Account',\n",
       " 'Q: What are the free services associated with PakWatan Remittance account? for PakWatan Remittance Account\\nA: Free services include: o First Cheque Book of 25 Leaves* o NUST Visa Debit Card Issuance* (annual and replacement fee would apply) o Bankers Cheque Issuance o Inter Branch Online Cash Withdrawal/ Deposit (Online) o Internal Fund Transfer within NUST via branch (Online Transfer) o Internet Banking o SMS on digital transactions o E-statements * For Current Account only',\n",
       " 'Q: Are there any other benefits to opening a PakWatan Remittance Account? for PakWatan Remittance Account\\nA: o WHT exemption on cash withdrawal on home remittances received from abroad o Customer may also be eligible for Personal Finance, Credit Cards and Auto Finance after six months of maintaining PakWatan Remittance Account, subject to eligibility criteria of the bank',\n",
       " 'Q: Is there any Insurance Coverage for this account? for PakWatan Remittance Account\\nA: o ATM Cash Withdrawal Insurance coverage up to daily cash withdrawal limit of the debit card from NUST Bank ATMs o 24 hours world-wide “Accidental Death & Permanent Disability” insurance coverage to Debit Card holders. Rs. 500,000/- and Rs. 700,000/- for Classic and Gold Debit Cards respectively o 24 hours world-wide “Accidental Death & Permanent Disability” insurance coverage. The sum insured per account holder shall be equivalent to four times of the average balance completed in the last six months – maximum up to\\xa0Rs. 2.5 million',\n",
       " 'Q: What is the profit rate offered on this account and when is credited? for PakWatan Remittance Account\\nA: Profit Rate Profit payment on monthly basis based on monthly average balance Monthly 0.19 All bank charges are applicable as per prevailing Schedule of Charges Zakat and taxes are applicable as per law',\n",
       " 'Q: Does NUST Bank offer Any account for Non-Resident Pakistanis (NRPs)? for Roshan Digital Account\\nA: Yes Roshan Digital Account. Specially Designed for Individual Non-Resident Pakistanis (NRPs) seeking to undertake banking, payment and investment activities in Pakistan.',\n",
       " 'Q: Is there any minimum balance requirement of Roshan Digital Account? for Roshan Digital Account\\nA: No initial deposit requirement No minimum balance requirement',\n",
       " 'Q: What are the main features of the Roshan Digital Account? for Roshan Digital Account\\nA: Offered in PKR and USD/GBP/EUR SMS Alerts on registered local and International numbers Bill Payments & Funds Transfer within Pakistan via Local ATMs & Internet Banking Investment in Naya Pakistan Certificates, Real Estate, NUST Term Deposits Receipts and Stock Market Note: Local Deposits are not allowed in RDA',\n",
       " 'Q: What are the free facilities ? for Roshan Digital Account\\nA: Free First Issuance of Debit Card- Annual charges as per prevailing SOC Free I-Net banking Free E-statements',\n",
       " 'Q: How to apply for Roshan Digital Account ? for Roshan Digital Account\\nA: Customer can visit NUST Bank’s website and click on \"Apply for Roshan Digital Account\" to open NUST Roshan Digital Account. ◦ Customer would complete the Account Opening Form and submit the required documents. Customer request to open Roshan Digital Account will be processed in 48 working hours. In case of any discrepancy or requirement of additional information, the bank will contact the customer accordingly as per provided contact details.',\n",
       " 'Q: What is the NUST Bank Web Portal Link for RDA? for Roshan Digital Account\\nA: https://secureportal.NUSTbank.com/rda/',\n",
       " 'Q: Who can open a Roshan Digital Account? for Roshan Digital Account\\nA: NRPs OPF Members Foreign Nationals having Pakistan Origin Card (POC) Pakistani Nationals having declared Assets abroad Govt. Employees & Officials posted abroad Profit Payment Profit Rate All bank charges are applicable as per prevailing Schedule of Charges Monthly 0.19 Zakat and WHT taxes on profit are not applicable on RDA account',\n",
       " 'Q: I would like to inquire about opening a current account for Individuals with your Bank. Please tell me what options I have ? for Value Plus Current Account\\nA: NUST Value Plus Current Account is specially designed for individuals to cater their financial needs.',\n",
       " 'Q: What are the free facilities being provided with NUST Value Plus Current Account? for Value Plus Current Account\\nA: - Cheque Books (unlimited) - Debit Card (First is free)* - 2 Supplementary Debit Cards - Duplicate Account Statements - On-line Fund Transfer Facility - Free SMS alerts facility on Digital Transactions - Free E-statement & I-Net Banking - Free Inter Branch Online Cash Deposit/Withdrawal (Online) - Free Internal Fund Transfer within NUST via branch (Online Transfer) - Free Banker’s Cheque Issuance',\n",
       " \"Q: Are there any insurance benefits associated with VPCA'? for Value Plus Current Account\\nA: - ATM Cash Withdrawal Insurance Coverage - 24 Hours World-wide “Accidental Death & Permanent Disability” Insurance Coverage **\",\n",
       " 'Q: What is the opening and minimum balance requirement for VPCA? for Value Plus Current Account\\nA: - No Opening Balance Requirements - No Minimum Monthly Average Balance Requirements - Allocation of Lockers (upon availability)** *Subsequent Charges/Annual Fees would be as per prevailing SOC **On maintaining a minimum monthly average balance of Rs. 50,000',\n",
       " 'Q: I would like to inquire about opening a current account for business with your Bank. Please tell me what options I have? for Value Plus Business Account\\nA: NUST Value Plus Business Account is best suited for startups and businesses',\n",
       " 'Q: Please tell me about  Free Facilities being provided on Value Plus Current Account for Business upon maintaining minimum Monthly average Balance ? for Value Plus Business Account\\nA: Issuance of Cheque Books Duplicate Account Statement Issuance of Debit Card* Internet\\xa0Banking facility SMS Alerts on Digital Transaction E-statement Inter Branch Online Cash Deposit/Withdrawal (Online) Internal Fund Transfer within NUST via branch (Online Transfer) Banker’s Cheque Issuance *Subsequent Charges/Annual Fees would be as per prevailing SOC',\n",
       " 'Q: Please tell me about  minimum Monthly balance required ? for Value Plus Business Account\\nA: No initial deposit requirement Rs. 25,000/-* (Monthly Average Balance)',\n",
       " 'Q: What is Target Market for  Value Plus Business Account ? for Value Plus Business Account\\nA: Sole Proprietors\\nGeneral Partnership\\nSmall Enterprises',\n",
       " 'Q: Is there any insurance coverage available? for Value Plus Business Account\\nA: ATM Cash Withdrawal Insurance Speedy processing of SBP Kamyab Jawan loans',\n",
       " 'Q: I would like to inquire about opening a current account for business purpose with your Bank. Please tell me what options I have? for NUST Value Premium Business Account\\nA: NUST Value Premium Business Account has been designed to better meet the specialized banking needs of businesses that continue to grow with time.',\n",
       " 'Q: Please tell me about  Free Facilities being provided on Value Plus Current Account for Premium Business  upon maintaining minimum Monthly average Balance? for NUST Value Premium Business Account\\nA: Issuance of Cheque Books* Duplicate Account Statement Issuance of Debit Card* Internet\\xa0Banking facility SMS Alerts on Digital Transaction Same Day & Intercity Cheque Deposit E-statement Inter Branch Online Cash Deposit/Withdrawal (Online) Internal Fund Transfer within NUST via branch (Online Transfer) Banker’s Cheque Issuance Free LC / LG issuance (Cash backed or Account lien based) *Subsequent Charges/Annual Fees would be as per prevailing SOC',\n",
       " 'Q: Please tell me about  the Minimum Monthly balance required for this account? for NUST Value Premium Business Account\\nA: No initial deposit requirement Rs. 100,000/-* (Monthly Average Balance)',\n",
       " 'Q: What other benefits do I get from using a VPBA? for NUST Value Premium Business Account\\nA: Speedy processing of Financing Customized Salary Processing & Cash Management solutions ACMS (Internet Banking solution for Corporate Clients) ATM Cash Withdrawal Insurance',\n",
       " 'Q: What is the Target Market for Value Plus Premium Business Account ? for NUST Value Premium Business Account\\nA: Medium Enterprises Partnership Firms Private & Public Limited Companies Corporate & Commercial Organizations NGOs / NPOs / Trust/ Charitable Organizations',\n",
       " 'Q: Is\\xa0NUST Bank\\xa0offering any account which provides lucrative profits on my savings? for NUST Special Deposit Account\\nA: NUST Special Deposit Account (ASDA) is specially designed for large ticket customers to meet their transactional and savings needs.',\n",
       " 'Q: What is the minimum balance requirement of NUST Special Deposit Account? for NUST Special Deposit Account\\nA: NUST Special Deposit Account (ASDA) No Minimum Monthly Average Balance Requirement Profit Payment Profit Rate No Minimum Opening Balance Requirement Monthly/Semi-Annually 0.19',\n",
       " 'Q: Please tell me about profit payment and calculation? for NUST Special Deposit Account\\nA: Profit Payment Frequency- Monthly Profit Calculation- Monthly Average Balance',\n",
       " 'Q: What are the free services available with ASDA? for NUST Special Deposit Account\\nA: Free E-statement & I-Net Banking Free Inter Branch Online Cash Deposit/Withdrawal (Online) Free Internal Fund Transfer within NUST via branch (Online Transfer) Free Banker’s Cheque Issuance Free SMS Alerts on Digital Transaction',\n",
       " 'Q: What is the Target Market? for NUST Special Deposit Account\\nA: HNW Individuals (either singly or jointly) Proprietorship Concerns Partnership Firms Public and Private Limited Companies Government Organizations, Corporations Clubs, Societies, Associations, NGOs',\n",
       " 'Q: Is your bank offering Profit & Loss account ? for Profit and Loss Sharing Account (PLS)\\nA: Yes, Profit & Loss Sharing Account is specially designed to meet the transactional and savings need of customers.',\n",
       " 'Q: What are the main features of NUST Profit & Loss Sharing (PLS) Account? for Profit and Loss Sharing Account (PLS)\\nA: Profit Payment Profit Rate Offered in LCY (PKR) & FCY (USD, GBP, EUR, JPY & AED) Semi-Annually 0.19 Account opening deposit of Rs.100 for LCY, US $500 or equivalent for FCY PLS Pensioners Account Debit Card Issuance against LCY account Profit Payment Profit Rate Profit Calculation- Monthly Average Balance Semi-Annually 0.1925 Profit Payment Frequency- Semi-Annually',\n",
       " 'Q: What are free features available with NUST Savings Profit & Loss Sharing (PLS) Account. for Profit and Loss Sharing Account (PLS)\\nA: Free E-statement & I-Net Banking Free Inter Branch Online Cash Deposit/Withdrawal (Online) Free Internal Fund Transfer within NUST via branch (Online Transfer) Free Banker’s Cheque Issuance Free SMS Alerts on Digital Transaction',\n",
       " 'Q: What is the Target Market? for Profit and Loss Sharing Account (PLS)\\nA: Individuals (either singly or jointly) Proprietorship Concerns Partnership Firms Public and Private Limited Companies Government Organizations, Corporations Clubs, Societies, Associations, NGOs/NPOs/Charitable Organizations',\n",
       " 'Q: Is your bank offering\\xa0any Current Deposit account ? for Current Deposit Account\\nA: Current Deposit Account is specially designed for customers with regular banking transactional needs and do not need Profit.',\n",
       " 'Q: What are the main features of Current Deposit Account? for Current Deposit Account\\nA: Offered in LCY (PKR) & FCY (USD, GBP, EUR, JPY & AED) Minimum Account Opening Deposit of Rs.5,000 for LCY, US $500 or equivalent for FCY No Minimum Monthly Balance Requirement Debit Card for PKR Account No limits on monthly credits and debits',\n",
       " 'Q: What are the free services offered with Current Deposit Account? for Current Deposit Account\\nA: Free SMS alerts facility on Digital Transactions Free E-statement & I-Net Banking Free Inter Branch Online Cash Deposit/Withdrawal (Online) Free Internal Fund Transfer within NUST via branch (Online Transfer) Free Banker’s Cheque Issuance',\n",
       " 'Q: What is the target market for Current Deposit Account? for Current Deposit Account\\nA: Individuals (either singly or jointly)\\nProprietorship Concerns, Business Owners Partnership Firms Public and Private Limited Companies\\nGovernment Organizations\\nCorporations, Clubs, Societies, NGOs etc. Main Features Non-Interest based Account Frequent Transaction and Funds Accessibility',\n",
       " 'Q: Is\\xa0there any account which provides lucrative profits on my long term savings? for NUST Maximiser Accounts (Savings/Deposit)\\nA: Yes, NUST Maximiser Account has been designed to fulfill your basic banking needs and provide lucrative profit on your savings. This product is available in two variants: · NUST Maximiser Savings Account · NUST Maximiser Term Deposit',\n",
       " 'Q: What are the main Features of NUST Maximiser Savings Account? for NUST Maximiser Accounts (Savings/Deposit)\\nA: - Attractive profit payment on monthly, quarterly, semi-annual & annual basis: - Minimum monthly average balance requirement Rs. 100,000 - Chip-based Debit Card & Cheque Book issuance as per prevailing SOC',\n",
       " 'Q: What are the free services available with NUST Maximiser Savings Account? for NUST Maximiser Accounts (Savings/Deposit)\\nA: Profit Rate: o Bankers Cheque Issuance Profit Payment o CDR Issuance Monthly 0.19 o Inter Branch Online Cash Withdrawal/ Deposit (Online) Quarterly 0.1905 o\\xa0Internal Fund Transfer within NUST via branch (Online Transfer) Semi-Annually 0.191 o Internet Banking Annually 0.1915 o SMS on digital transactions o E-statements What are main Features of NUST Maximiser Term Deposit Profit Rate: - Tenure: 1, 2, 3 & 5 Years NUST Maximiser - Term Deposit - Minimum investment: Rs. 100,000 Tenure Payout Profit Rate - Roll-over option available One Year Monthly 0.1675 - Attractive profit payments on monthly basis. Two Years 0.1425 Three Years 0.13752 Five Years 0.13',\n",
       " 'Q: Is there any Premature Encashment Penalty in NUST Maximiser Term Deposit? for NUST Maximiser Accounts (Savings/Deposit)\\nA: The encashment of NUST Maximiser Term Deposit before maturity will be subject to premature encashment penalty as below: Principal amount x 1.5% per annum on the remaining period of the Term Deposits (for e.g., deal booked for 5 years matured after 2 years – penalty/charges will be 4.5% x Principal Amount) Minimum penalty/charges are 1.5% of the principal amount. The penalty amount will be to the extent of profit paid/payable only',\n",
       " 'Q: Is NUST Bank offering a simple Digital Banking Account  ? for NUST Asaan Digital Account\\nA: Yes, NUST Asaan Digital Account is being offered',\n",
       " 'Q: What is the Target  Market of NUST Asaan Digital Account ? for NUST Asaan Digital Account\\nA: NUST Asaan Digital Account is specially designed for unbanked / under-banked customer segments. This account is most suited for but not limited to skilled/unskilled workforce',\n",
       " 'Q: What is the Account type of NUST Asaan Digital Account ? is it Current or Saving? for NUST Asaan Digital Account\\nA: NUST Asaan Digital account is a Current Account in PKR currency',\n",
       " 'Q: What are the free benefits of NUST Asaan Digital Account ? for NUST Asaan Digital Account\\nA: Free Issuance of First Cheque book (25 Leaves)* Free First Issuance of PayPak Debit Card * Free First Cheque Book & Debit Card Delivery* Free SMS alerts facility (Digital Transactions) Free E-statement & I-Net Banking Free Inter Branch Online Cash Deposit/Withdrawal (Online) Free Internal Fund Transfer within NUST via branch (Online Transfer) Free Banker’s Cheque Issuance',\n",
       " 'Q: Who is eligible for this account? for NUST Asaan Digital Account\\nA: Skilled/Unskilled Workforce Less Educated/Uneducated People Farmers, Laborers/Daily Wagers Women/Housewives Self-Employed Individuals Young Adults',\n",
       " 'Q: Is there a Monthly Transaction Limit (Debit  and Credit Limit) in NUST Asaan Digital Account ? for NUST Asaan Digital Account\\nA: Maximum Credit Balance Limit PKR 1,000,000/- Monthly Debit Limit PKR 1,000,000/-',\n",
       " 'Q: I would like to inquire about opening of a Digital Remittance Account, Please tell me what options are available? for NUST Asaan Digital Remittance Account\\nA: NUST Asaan Digital Remittance Account is specially designed for Pakistani Resident Individuals who wish to receive remittances from their families and friends living abroad, directly in a bank account without the hassle of visiting the branch.',\n",
       " 'Q: What is the Account type of NUST Asaan Digital Remittance Account ? is it Current or Saving? for NUST Asaan Digital Remittance Account\\nA: NUST Asaan Digital Remittance account is a Current Account in PKR currency',\n",
       " 'Q: What are the free benefits of NUST Asaan Digital Remittance Account ? for NUST Asaan Digital Remittance Account\\nA: Free Issuance of First Cheque book (25 Leaves)* Free First Issuance of PayPak Debit Card* Free First Cheque Book & Debit Card Delivery* Free SMS alerts facility (Digital Transactions) Free E-statement & I-Net Banking Free Inter Branch Online Cash Deposit/Withdrawal (Online) Free Internal Fund Transfer within NUST via branch (Online Transfer) Free Banker’s Cheque Issuance Free accidental Death & Disability Insurance/Takaful up to PKR 2.5 mn on monthly average balance of PKR 100,000',\n",
       " 'Q: What is the Target Market? for NUST Asaan Digital Remittance Account\\nA: Individuals- Beneficiaries (families) of Pakistanis working abroad',\n",
       " 'Q: Are there any transaction limits in NUST Asaan Digital Remittance Account ? for NUST Asaan Digital Remittance Account\\nA: The following Transaction limits apply: Maximum Credit Balance Limit PKR 3,000,000 Cash Withdrawal Limit PKR 500,000/ per day Fund Transfer Limit PKR 500,000/ per day Local Credit Limit PKR 1,000,000/ per day',\n",
       " 'Q: 1.What are the benefits of NUST Bank Auto Finance? for NUST4Car : Auto Finance Facility\\nA: - Competitive Floating & Fixed Mark Up Rate - Partial Payment option available to reduce monthly instalment - Attractive Insurance Rate at 1.75% per annum - Quick Processing & Minimum Documentation - Free Tracker & Its installation - No hidden charges - Free Accidental Life Insurance up to Rs.1,000,000',\n",
       " 'Q: 2. Who can apply for NUST Auto Finance? for NUST4Car : Auto Finance Facility\\nA: · Salaried Individuals · Specially Abled Persons/Visually Impaired Person/Persons with Disabilities (PWD) · Self Employed Businessman/Woman (SEB) · Individuals having any other verifiable source of income · Self Employed Professionals (SEP)',\n",
       " 'Q: 3. Which types of Vehicles are offered under NUST auto finance? for NUST4Car : Auto Finance Facility\\nA: Locally assembled/manufactured New/Used vehicles (Commercial vehicles or vehicles for commercial use cannot be financed)',\n",
       " 'Q: 4. Can I avail Loan Facility, if there are defaults against my previous loan(s)? for NUST4Car : Auto Finance Facility\\nA: No. Regular payment against previous loans is necessary.',\n",
       " 'Q: 5. How much loan can I avail? for NUST4Car : Auto Finance Facility\\nA: Up to a maximum of Rs.3 Million from all banks/DFIs in aggregate, subject to a maximum of 40% Debt Burden requirement.',\n",
       " 'Q: 6. What is maximum period of loan? for NUST4Car : Auto Finance Facility\\nA: Up to 1000 CC Vehicles up to 5 Years For Vehicles Greater than 1000 CC up to 3 Years',\n",
       " 'Q: 7. How much Equity/Down Payment is required? for NUST4Car : Auto Finance Facility\\nA: Minimum 30% equity +(1st Year Insurance + documentation charges) is required as down payment',\n",
       " 'Q: 8. Can I avail more than one vehicle through Auto loan facility? for NUST4Car : Auto Finance Facility\\nA: Yes. Two vehicles can be availed simultaneously from NUST Bank, subject to Debt Burden Limitations 9. Can I avail Auto loan facility, if I am not a Salaried Person/Businessman/',\n",
       " 'Q: Professional? for NUST4Car : Auto Finance Facility\\nA: Yes. The individual with foreign remittance, supported by Bank statement and remittance receipts can avail Auto Loan Facility',\n",
       " 'Q: 10. Are there any hidden charges? for NUST4Car : Auto Finance Facility\\nA: There are no hidden charges. All charges are mentioned in our Schedule of Charges available at our website and at all branches of NUST Bank.',\n",
       " 'Q: 11. Is insurance of vehicle is mandatory? for NUST4Car : Auto Finance Facility\\nA: Yes. Comprehensive Insurance of vehicle is mandatory for the whole tenor of loan at the cost of the borrower through any of the insurance companies listed with NUST Bank.',\n",
       " 'Q: 12. What will be the monthly insurance charges on the vehicle valuing Rs.3 million? for NUST4Car : Auto Finance Facility\\nA: With the current insurance rate of 1.75% per annum, it will be Rs.4,375/- per month. Insurance rate once fixed, shall remain unchanged during the whole tenor of financing.',\n",
       " 'Q: 13. Who will insure my Vehicle? for NUST4Car : Auto Finance Facility\\nA: NUST Bank has insurance arrangements with reputed insurance companies with attractive insurance rate, Free Tracker and Free Accidental Life insurance up to Rs.1 million. Customer has to select insurance company of his/her choice from NUST Panel of insurance companies.',\n",
       " 'Q: 14. Can I pay my loan before maturity? for NUST4Car : Auto Finance Facility\\nA: Yes. You can pay your loan before maturity. However, charges shall be applicable as per prevailing SOC https://NUSTbank.com/NUSTUploads/uploads/SOC-Conv-English.pdf',\n",
       " 'Q: 15. What is the security against the loan? for NUST4Car : Auto Finance Facility\\nA: Financed vehicle will be the security against the loan, which will be hypothecated in favour of NUST Bank.',\n",
       " 'Q: 16. Whether bank is responsible for delay in booking or delivery of vehicle? for NUST4Car : Auto Finance Facility\\nA: No. Bank does not assume any responsibility in this regard, as same is beyond the control of bank.',\n",
       " 'Q: 17. Whether bank is responsible for any type of dispute related to Warranty/Fault in vehicle/Service issues with Dealership or vehicle Manufacturer? for NUST4Car : Auto Finance Facility\\nA: No. Bank does not assume this responsibility. Customer will take up the matter directly with dealership or manufacturer.',\n",
       " 'Q: 18. What is the Loan Application processing time? for NUST4Car : Auto Finance Facility\\nA: The processing time for loan approval is approximately 11 working days, subject to complete application with required documents/formalities.',\n",
       " 'Q: 19. How can I apply for loan? for NUST4Car : Auto Finance Facility\\nA: You can apply by visiting any of our Branch or by calling us at 24 hours Contact Centre at 111-000-787. Our dedicated staff will help you to complete your loan application and other formalities.',\n",
       " 'Q: Does NUST Bank offer a Digital Banking Account for Freelancers ? for Exporters’ Special Foreign Currency Account – ESFCA\\nA: NUST Freelancer Digital Account is exclusively designed for Freelancers, so that they can receive their payments directly in a bank account and enjoy other lifestyle banking services as well.',\n",
       " 'Q: What is the Account type of NUST Freelancer Digital Account ? is it Current or Saving? for Exporters’ Special Foreign Currency Account – ESFCA\\nA: NUST Freelancer Digital Account offered Current Account in PKR & FCY (USD, GBP, EUR, AED)',\n",
       " 'Q: What are the free benefits of NUST Freelancer Digital Account? for Exporters’ Special Foreign Currency Account – ESFCA\\nA: Free Issuance of First Cheque book (25 Leaves)* Free First Issuance of Visa Debit Card* Free First Cheque Book & Debit Card Delivery* Free SMS alerts facility (Digital Transactions) Free accidental Death & Disability Insurance/Takaful up to PKR 2.5 mn on monthly average balance of PKR 100,000',\n",
       " 'Q: What is the Target Market? for Exporters’ Special Foreign Currency Account – ESFCA\\nA: Individuals running a freelance service business',\n",
       " 'Q: Are there any Credit and Debit limits in NUST Freelancer Digital Account? for Exporters’ Special Foreign Currency Account – ESFCA\\nA: The following Transaction limits apply: Maximum Credit Balance Limit USD 5,000 or equivalent Monthly Debit Limit USD 5,000 or equivalent Cash Withdrawal Limit PKR 500,000 or equivalent / per day',\n",
       " 'Q: Does NUST Bank offer a Digital Banking Account for Freelancers ? for NUST Freelancer Digital Account\\nA: NUST Freelancer Digital Account is exclusively designed for Freelancers, so that they can receive their payments directly in a bank account and enjoy other lifestyle banking services as well.',\n",
       " 'Q: What is the Account type of NUST Freelancer Digital Account ? is it Current or Saving? for NUST Freelancer Digital Account\\nA: NUST Freelancer Digital Account offered Current Account in PKR & FCY (USD, GBP, EUR, AED)',\n",
       " 'Q: What are the free benefits of NUST Freelancer Digital Account? for NUST Freelancer Digital Account\\nA: Free Issuance of First Cheque book (10 Leaves)* Free First Issuance of UnionPay Debit Card* Free First Cheque Book & Debit Card Delivery* Free SMS alerts facility (Digital Transactions) Free accidental Death & Disability Insurance/Takaful up to PKR 2.5 mn on monthly average balance of PKR 100,000',\n",
       " 'Q: What is the Target Market? for NUST Freelancer Digital Account\\nA: Individuals running a freelance service business',\n",
       " 'Q: Are there any Credit and Debit limits in NUST Freelancer Digital Account? for NUST Freelancer Digital Account\\nA: The following Transaction limits apply: Maximum Credit Balance Limit USD 5,000 or equivalent Monthly Debit Limit USD 5,000 or equivalent Cash Withdrawal Limit PKR 500,000 or equivalent / per day',\n",
       " 'Q: Is NUST Bank offering any account specifically for Women? for NUST Sahar Accounts\\nA: - Yes! NUST Bank Offers NUST Sahar Account. - Female Individual Resident Pakistanis can open the account offered under NUST Sahar Banking.',\n",
       " 'Q: What is the account type of NUST Sahar Account? for NUST Sahar Accounts\\nA: NUST Sahar Deposit suite consists of following variants: 1- NUST Sahar Current Account 2-NUST Sahar Savings Account 3-NUST Sahar Term Deposits 4-NUST Sahar Asaan Current Account',\n",
       " 'Q: What are the free facilities NUST is offering on NUST Sahar Current Account ? for NUST Sahar Accounts\\nA: · First Cheque Book · First Debit Card Issuance* · 50% Discount on first year Locker Rental (subject to locker availability) . Bankers Cheque Issuance . Inter Branch Online Cash Withdrawal/ Deposit (Online) . Internal Fund Transfer within NUST via branch (Online Transfer) · SMS Alerts on all banking Transactions · I-Net and Mobile Banking · E-statement Facility and much more *Subsequent Charges/Annual Fees would be as per prevailing Schedule of Charges',\n",
       " 'Q: Can we open this account online? for NUST Sahar Accounts\\nA: · Digital account opening facility available with account opening within 48 hours',\n",
       " 'Q: Does the bank offer option of Term Deposits with this account. for NUST Sahar Accounts\\nA: · Yes, Option to book exclusive NUST Sahar Term Deposits from NUST Sahar Current Account at attractive rates is available. Is there a Minimum balance requirement for NUST Sahar Current Account · No minimum average balance requirement for account maintenance',\n",
       " 'Q: What is the profit payment system for NUST Sahar Savings Account ? for NUST Sahar Accounts\\nA: · Monthly Profit Payment · Profit calculation on Monthly Average Balance',\n",
       " 'Q: What are the free services offered on NUST Sahar Savings Account? for NUST Sahar Accounts\\nA: · First Debit Card Issuance* · SMS Alerts on Digital Transactions · I-Net Banking . Internal Fund Transfer within NUST via branch (Online Transfer) . Inter Branch Online Cash Withdrawal/ Deposit (Online) · E-statement Facility · Debit card and Cheque book delivery at customer address & activation via Contact Centre *Subsequent Charges/Annual Fees would be as per prevailing Schedule of Charges',\n",
       " 'Q: What are the main features of NUST Sahar Term Deposit ? for NUST Sahar Accounts\\nA: · Flexibility to choose from multiple tenure: 1, 3 or 5 Years · Investments starts from as low as Rs. 50,000/- · Monthly Profit Payment in your NUST Sahar Current Account · Roll-over option available Note: Deals to be booked from NUST Sahar Current Account Only',\n",
       " 'Q: What is the Premature Encashment Penalty on NUST Sahar Term Deposit ? for NUST Sahar Accounts\\nA: - The encashment of NUST Sahar Term Deposit before maturity will be subject to premature encashment penalty as below: - Principal amount x 1.5% per annum on the remaining period of the Term Deposits (for e.g., deal booked for 5 years matured after 2 years – penalty/charges will be 4.5% x Principal Amount) - Minimum penalty/charges are 1.5% of the principal amount. The penalty amount will be to the extent of profit paid/payable only https://NUSTbank.com/NUSTUploads/uploads/SOC-Conv-English.pdf',\n",
       " 'Q: What is the initial deposit requirement of NUST Sahar Asaan Current Account? for NUST Sahar Accounts\\nA: - Rs. 100 only',\n",
       " 'Q: What are the main features of NUST Sahar Asaan Current Account ? for NUST Sahar Accounts\\nA: - Simplified Account Opening with single pager Account Opening form & CNIC - Cheque Book Issuance - Free PayPak Debit Card Issuance',\n",
       " 'Q: Is there any Transaction Limitation for NUST Sahar Asaan Current Account ? for NUST Sahar Accounts\\nA: - Monthly withdrawal limits up to Rs. 1,000,000 - Total Credit Balance Limit of up to Rs. 1,000,000 - Cross border (outward) transactions shall not be allowed except in case of international transactions carried out through debit cards',\n",
       " 'Q: What are the free services offered on NUST Sahar Asaan Current Account ? for NUST Sahar Accounts\\nA: - Free Inter Branch Online Cash Deposit/Withdrawal (Online) - Free Internal Fund Transfer within NUST via branch (Online Transfer) - Free Banker’s Cheque Issuance - Free I-Net Banking - Free E-statement - Free SMS Alerts on digital transactions',\n",
       " 'Q: Who can apply for NUST Personal Finance? for NUST Personal Finance\\nA: 1· Armed Forces Officers - Serving employees - Retired employees 2.\\tJCOs/Equivalent & Lower Cadres - Serving employees - Retired employees 3.\\tAllied Armed Forces (SPD & its allied concerns) and Civilians (in GHQ/NHQ & AHQ) - Serving employees (Permanent & Contractual Employees) 4.\\tFauji Foundation Group - Permanent employees - Contractual employees 5. Salaried Individuals - Permanent employees - Contractual employees 6. GOP / Semi Government / Autonomous Bodies - Permanent employees - Contractual employees - Retired employees 7. NUST Employees (governed under HR Policy)',\n",
       " 'Q: Can overseas Pakistanis obtain Personal Finance facility from NUST? for NUST Personal Finance\\nA: No, the availability of applicants & their employers is mandatory within Pakistan for applying clean Personal Finance.',\n",
       " 'Q: What is the minimum and maximum financing amount? for NUST Personal Finance\\nA: The minimum financing amount is Rs. 50,000/ (Rs. 35,000 for retired JCOs & Lower Cadre - Subject to pension with NUST). Maximum finance up to Rs. 3,000,000 (For non-prime customers) and up to Rs. 4,000,000 (For prime customers).\\nWhereas maximum finance amount depends on case to case basis subject to income multiples within 40% Debt Burden Ratio or limit as defined in the PPM Personal Finance.The maximum financing limit will be up to 40% Debt Burden Ratio and as per SBP PR.',\n",
       " 'Q: What are the minimum & maximum financing tenures? for NUST Personal Finance\\nA: Minimum 01 year Maximum 04 years (up to 7 years for Education Loan) or as per prevailing SBP PRs.',\n",
       " 'Q: What is the age criteria for applying NUST Personal Finance? for NUST Personal Finance\\nA: Minimum:\\nSalaried: 21 years (18 years for Armed Forces)\\nSEB/SEP: 23 years\\nPrime Customers: 25 years Maximum:\\nPermanent: 60 years\\nContractual: 65 years\\nPensioners: 65 years (70 Years for Armed Forces)\\nSEB/SEP: 65 years at the time of loan Maturity',\n",
       " 'Q: What is the minimum monthly income criterion? for NUST Personal Finance\\nA: Salaried (Approved Company): - Category A Company - PKR 40,000 (Permanent) & PKR 60,000 (Company / 3rd Party Contractual) - Category B & C Company - PKR 50,000 (Permanent) & PKR 60,000 (Company / 3rd Party Contractual) Salaried (Non-approved Company): - PKR 70,000 (Permanent) & PKR 80,000 (Company Contractual) Salaried (GOP): - Serving - PKR 35,000 (Permanent, BPS-5 & above) & PKR 45,000 (Contractual) - Retired - PKR 40,000 subject to pension with NUST Armed Forces, Allied Concerns & Civilians in GHQ/NHQ/AHQ: - Serving - PKR 25,000 (Commissioned Officers / JCOs & Lower Cadre) - Retired - PKR 40,000 (Commissioned Officers) and Rs. 15,000 (JCOs & Lower Cadre subject to pension with NUST) - SPD & its allied concerns - PKR 25,000 (Permanent & Contractual) - Civilians in GHQ/NHQ/AHQ - PKR 25,000 (Permanent) and PKR 35,000 (Contractual) Fauji Foundation & its Allied Concerns: - PKR 25,000 (Permanent & Contractual) SEB/SEP: - PKR 100,000 (Branch Customers) - PKR 150,000 (Non-Branch Customers)',\n",
       " 'Q: In which area of the country one can avail Personal Finance form NUST? for NUST Personal Finance\\nA: Personal Finance can be availed from all cities where NUST branches exists.',\n",
       " 'Q: What is the Application processing time? for NUST Personal Finance\\nA: The processing time of Personal Finance is 10 working days form login till approval (subject to complete application with required documents).',\n",
       " 'Q: What is the Application processing Charges? for NUST Personal Finance\\nA: It will be as per prevailing Schedule of Charges (SOC) or As per corporate arrangement.',\n",
       " 'Q: What is the repayment mode? for NUST Personal Finance\\nA: Payment of Equal Monthly Instalment (EMI) comprising of principal, mark-up and insurance payment will be made through Direct Debit Authority (DDA) of borrower’s account maintained with NUST.',\n",
       " 'Q: Can I make balloon payments or premature termination of facility? for NUST Personal Finance\\nA: Yes, Balloon payment or premature termination option is available for all customers.\\nCharges will be applied as per prevailing Bank’s schedule of charges / As per corporate arrangement.',\n",
       " 'Q: What happens if I fail to fulfil your payment obligations? for NUST Personal Finance\\nA: In case of overdue / default, recovery department of NUST will contact you, your loan related details will be reported to Credit Bureau. Late payment will be applicable as per prevailing schedule of charges. Legal proceeding may also be initiated by the Bank.',\n",
       " 'Q: How will I get update of my Personal Loan Application? for NUST Personal Finance\\nA: You can\\xa0visit/ call or send email at our Customer Services centre(s) as well. Email Address:\\xa0CustomerServices@NUSTbank.com.pk',\n",
       " 'Q: 1.Who can apply for NUST Credit Card Facility? for NUST Bank Mastercard\\nA: Salaried Individuals Self Employed Businessman/Woman (SEB) Self Employed Professionals (SEP) Specially Abled Persons/Visually Impaired Person/Persons with Disabilities (PWD), Women. Individuals having verifiable source of income can apply for NUST Mastercard Credit Card.',\n",
       " 'Q: 2.What is the minimum age for applying NUST Mastercard Credit Card? for NUST Bank Mastercard\\nA: Minimum 21 years old & Pakistani resident, can apply for NUST MasterCard Credit Card.',\n",
       " 'Q: 3. What is the maximum age for applying NUST Mastercard Credit Card? for NUST Bank Mastercard\\nA: Salaried (Permanent): 60 years Salaried (Contractual)/ Pensioners/SEB/SEP: 65 years',\n",
       " 'Q: 4.Can overseas Pakistanis obtain Credit Card facility from NUST? for NUST Bank Mastercard\\nA: Yes. The individuals maintaining FC account with NUST, Remittances/ Roshan Digital Account holders/ Holders of Naya Pakistan Certificates can apply for NUST MasterCard Credit Cards on lien basis. Note: Facility can only be allowed in case of FC joint account maintaining with NUST (one person should be residing in Pakistan).',\n",
       " 'Q: 5. What is the minimum and maximum financing amount? for NUST Bank Mastercard\\nA: Clean facility, Minimum Rs. 30,000/- and maximum up to 3.0 Million or as per 40% Debt Burden Ratio subject to SBP PRs.',\n",
       " 'Q: 6. What would be the financing tenure? for NUST Bank Mastercard\\nA: NUST Credit Card is an Evergreen facility & renewable after expiry of credit card.',\n",
       " 'Q: 7. What is the minimum monthly income criterion? for NUST Bank Mastercard\\nA: GOP / Semi Govt. / Autonomous Bodies etc: Permanent, Rs. 35,000/- Contractual, Rs. 45,000/- Approved Company: Permanent, Rs. 40,000/- Contractual, Rs. 60,000/- Non-Approved(Salary account with NUST): Rs. 70,000/- Contractual, Rs. 80,000/-',\n",
       " 'Q: 8. In which area of the country one can avail Credit Card facility? for NUST Bank Mastercard\\nA: Credit Card can be availed from all cities / Areas without discrimination',\n",
       " 'Q: 9. What is the Application processing time? for NUST Bank Mastercard\\nA: The processing time of Credit Card facility is 10 working days form login till approval subject to complete application with required documentation',\n",
       " 'Q: 10. What are the Application Processing Charges? for NUST Bank Mastercard\\nA: Processing Charges will be as per prevailing Bank’s Schedule of Charges (SOC).',\n",
       " 'Q: 11. What happens if I fail to fulfil your payment obligations? for NUST Bank Mastercard\\nA: In case of overdue / default, recovery department of NUST will contact you, your loan related details will be reported to Credit Bureau. Late payment and cheque return charges may also be applicable as per prevailing schedule of charges. Legal proceeding may also be initiated by the Bank.',\n",
       " 'Q: 12. How will I get update of my Credit Card Application? for NUST Bank Mastercard\\nA: You can visit/ call or send email at our Customer Services centre(s) as well. Services centre(s) as well. Email Address: CustomerServices@NUSTbank.com.pk',\n",
       " 'Q: 13. Is there a limit to international Spending? for NUST Bank Mastercard\\nA: As per SBP directives i.e. Nov 1, 2022 industry-wide annual maximum limit of USD 30,000/- per individual on card-based (debit/credit and virtual cards) cross-border transactions It is the primary responsibility of a customer to ensure that his/her annual limit is not breached at any time. In order to avoid any inconvenience, you are requested to please restrict your international spending within the defined limit. Cross-border commercial payments through cards issued to individuals are not permissible.\\nNote: NUST Bank has the right to reject any application as per Bank’s criteria.',\n",
       " 'Q: 1.What types of Housing Finance products does NUST offer? for NUST Bank Mortgage Finance\\nA: Purchase of House/ Apartment/ Flat/ Residential Unit Purchase of Plot (+) plus Construction Construction of House/ Residential Unit on already owned residential plot Renovation of House/ Apartment/ Flat/ Residential Unit Extension/ Expansion/ Improvement Balance Transfer Facility (BTF) against existing financing facility of borrower from other banks/DFIs. Note: Housing finance will not be allowed purely for the purchase of land/ plot',\n",
       " 'Q: 2.What is the minimum age for applying NUST Mortgage Finance? for NUST Bank Mortgage Finance\\nA: Salaried : 21 Years SEB/SEP: 23 Years',\n",
       " 'Q: 3. What is the Maximum age criteria for applying NUST Mortgage Finance? for NUST Bank Mortgage Finance\\nA: Salaried Permanent : 60 Years at the maturity of loan\\nSalaried Contractual: 65 Years at the Matrurity of loan\\nPensioners: 65 Years at the maturity of loan\\nSEB/SEP: 65 Years at the maturity of loan',\n",
       " 'Q: 4.Can overseas Pakistanis obtain House Finance facility from NUST? for NUST Bank Mortgage Finance\\nA: Yes. However can apply as Co-Borrower with veriable income. Basic borrower from Pakistan should also meet the required basic criteria for MF.',\n",
       " 'Q: 5. What is the minimum and maximum financing amount? for NUST Bank Mortgage Finance\\nA: The minimum financing amount is Rs. 500,000/. The maximum financing limit will be up to Rs.100,000,000/- subject to 50% Debt Burden Ratio(DBR) as per SBP PRs for Housing Finance.',\n",
       " 'Q: 6. What would be the financing tenure? for NUST Bank Mortgage Finance\\nA: Loan tenure is Minimum 3 years and maximum 25 years',\n",
       " 'Q: 7. Can I obtain financing on my owned property by mortgaging it? for NUST Bank Mortgage Finance\\nA: Yes, purpose of finance has to be in line with the purpose defined by regulator i.e. Financing for construction of house on owned residential plot. Balance Transfer Facility (BTF) against existing financing facility of borrower from other banks/ DFIs. Renovation of owned House/ Apartment/ Flat/ Residential Unit Extension/ Expansion/ Improvement of Residential Unit',\n",
       " 'Q: 8. Can I avail more than one House loan? for NUST Bank Mortgage Finance\\nA: Yes. One can avail two Mortgage Loans at a time from NUST Bank within Debt Burden Ratio (DBR) as per prevailing SBP PRs for Housing Finance.',\n",
       " 'Q: 9. Can I avail income tax rebate on House Financing? for NUST Bank Mortgage Finance\\nA: Yes, one can claim tax rebate against its House Finance mark-up paid during the year, or as per prevailing Tax laws of the country.',\n",
       " 'Q: 10. What is the minimum monthly income criterion? for NUST Bank Mortgage Finance\\nA: Salaried:\\xa0Permanent Rs. 50,000/-, Contractual Rs. 60,000/-, Govt. Employee Contractual 75,000/- Armed Forces:\\xa025,000/-',\n",
       " 'Q: 11. Can I club income of Co-Borrower? for NUST Bank Mortgage Finance\\nA: Yes. Clubbing of Co-Borrower income may be allowed in case of spouse/son/parents/un-married daughter/Sibling.',\n",
       " 'Q: 12. What are the processing charges for NUST Mortgage FInance? for NUST Bank Mortgage Finance\\nA: Processing Charges will be as per prevailing Bank’s Schedule of Charges (SOC).',\n",
       " 'Q: 13. What is the repayment mode? for NUST Bank Mortgage Finance\\nA: Payment of Equal Monthly Installment (EMI) comprising of principal, mark-up and Insurance cost etc. will be made through Direct Debit Authority (DDA) of borrower’s account maintained with NUST.',\n",
       " 'Q: 14.\\xa0Is Property insurance coverage mandatory? for NUST Bank Mortgage Finance\\nA: Yes. Property Insurance is mandatory; Insurance premium is born by the borrower. It covers construction cost of financed house and value of property in case of apartment.',\n",
       " 'Q: 15. Can I make balloon payments or premature termination is allowed? for NUST Bank Mortgage Finance\\nA: Yes, Balloon payment or premature termination option is available for all customers. Charges will be applied as per prevailing Bank’s schedule of charges.',\n",
       " 'Q: 16. Can the loan amount be used for any other purpose? for NUST Bank Mortgage Finance\\nA: No, the loan amount can only be used for specific purpose i.e. Purchase of House/ Apartment/ Flat/ Residential Unit Purchase of Plot (+) plus Construction Construction of House/ Residential Unit on already owned plot Renovation of House/ Apartment/ Flat/ Residential Unit Extension/ Expansion/ Improvement Balance Transfer Facility (BTF) against existing financing facility of borrower from other banks/DFIs.',\n",
       " 'Q: 17.In which area of the country one can avail House Finance form NUST? for NUST Bank Mortgage Finance\\nA: Mortgage Finance facility can be availed from all cities / areas without discrimination.',\n",
       " 'Q: 18. Where financing is not allowed? for NUST Bank Mortgage Finance\\nA: The financing shall not be allowed for; Commercial Properties. Construction or possession of land on the encroached area of Public/ Government Land. Properties built against Housing Authority By-Laws.',\n",
       " 'Q: 14. What is the Application processing time? for NUST Bank Mortgage Finance\\nA: The processing time of Mortgage Finance is 30 days form login till approval subject to complete application with required documents.',\n",
       " 'Q: How will I get update of my House Loan Application? for NUST Bank Mortgage Finance\\nA: Our Sales/ front end staff is quite supportive and always there to serve you. You can visit/call or send email at our Customer Services center(s) as well. Email Address: CustomerServices@nustbank.com.pk',\n",
       " 'Q: Is NUST Bank offering any financing specifically for women owned small and medium enterprises? for NUST Sahar Finance\\nA: The Product \"NUST Sahar Finance\" is based on Refinance and Credit Guarantee Scheme for Women Entrepreneurs objective of this product is to provide financing facilities to women owned enterprises to meet credit needs of their businesses.',\n",
       " 'Q: What are the purposes for which NUST Sahar Finance can be availed? for NUST Sahar Finance\\nA: i. Expansion of existing business\\nii. Set up of new business\\niii.Purchase of stocks/ Working Capital Requirement etc',\n",
       " 'Q: What is the applicant legal structure of business in order to avail NUST Sahar Finance? for NUST Sahar Finance\\nA: Sole Proprietor, Partnership Firm, Private Limited Company, Single Member Company (SMC), Business Individuals (Women Owned) *In Partnership firm/ Private Limited Company, having 02 partners or directors, minimum 51% shareholder/ CEO should be a a femle who should also be the applicant. If there are more than 02 partners or directors, major share holder should be women , who should also be CEO and applicant',\n",
       " 'Q: What is the nature of finance in NUST Sahar Finance? for NUST Sahar Finance\\nA: i. Long Term Finance\\nii. Short Term Finance/Working Capital',\n",
       " 'Q: What is the maximum tenure of NUST Sahar Finance? for NUST Sahar Finance\\nA: Short Term Finance/Working Capital\\nMaximum 3 years with no grace period Long Term Finance\\nMaximum 5 years (inclusive of grace period up to 6 months)\\n*Markup will be recovered during grace period',\n",
       " 'Q: Is there any age criteria to avail NUST Sahar Finance? for NUST Sahar Finance\\nA: New Business\\nBetween 20-50 years at the time of application Existing Business\\nBetween 20-55 years at the time of application',\n",
       " 'Q: What are the Loan Limits of NUST Sahar Finance? for NUST Sahar Finance\\nA: New Business\\nMaximum Loan Rs: 3.00 Million Existing Business\\nMaximum Loan Rs: 5.00 Million',\n",
       " 'Q: What is the current Mark-up rate of NUST Sahar Finance? for NUST Sahar Finance\\nA: Mark-up Rate of @5% p.a.\\n*Markup at 12M Kibor + 4% Per Annum to be charged till refinance claim reimbursed by SBP.',\n",
       " 'Q: Can applicant avail clean loan in NUST Sahar Finance? for NUST Sahar Finance\\nA: Max Rs: 0.70 million can be availed against personal and third party guarantee',\n",
       " 'Q: Does the bank require any Equity for this scheme? for NUST Sahar Finance\\nA: New Business\\n20% equity. Existing Business\\nNo equity, the existing investment in business will be considered as equity',\n",
       " 'Q: Is there any minimum business age requirement? for NUST Sahar Finance\\nA: Existing Business Should be women owned enterprises with Minimum 01 year of business registration\\nNew Business: Nil',\n",
       " 'Q: What are the processing charges for NUST Sahar Finance Application? for NUST Sahar Finance\\nA: Up to Rs. 0.70 Rs: 2000/- (Non refundable) Above Rs. 0.70 and upto Rs. 5 Million Rs: 3000/- (Non refundable)',\n",
       " 'Q: Are there any late payment charges? for NUST Sahar Finance\\nA: Rs. 1,000/- per installment\\n*In case of delay of installment, commercial rate will be charged on the outstanding principal amount.',\n",
       " 'Q: What are the service/documentation/legal charges in NUST Sahar Finance? for NUST Sahar Finance\\nA: At actual',\n",
       " 'Q: What are the insurance charges? for NUST Sahar Finance\\nA: At actual',\n",
       " 'Q: Is NUST Bank offering any financing specifically for the ownership & capacity enhancement of business premises? for NUST Imarat Finance\\nA: NUST Bank has structured a new financing product “NUST Imarat Finance” under the ambit of SME segment. The Product Program has been developed in order to stabilize SME business through making their ownership of business premises (under mortgage finance of urban commercial / industrial buildings) for capacity enhancement of SMEs.The product has been structured for SMEs owned by general public as well as retired armed forces officers and families of serving officers.',\n",
       " 'Q: For which purpose NUST Imarat Finance is being offered? for NUST Imarat Finance\\nA: AIF 1: Acquisition / Purchase of urban commercial / industrial construted property/ office and commercial premises for commercial / business activity\\nAIF 2: Construction on self owned urban commercial / Industrial plot\\nAIF 3: Additional construction on already built urban commercial/ industrial plaza/building\\nAIF 4: Renovation of self owned urban commercial /industrial property/Plaza/ business premises',\n",
       " 'Q: What are the Loan Limits of NUST Imarat Finance? for NUST Imarat Finance\\nA: AIF 1: Mininum Rs. 5.00 M & Maximum Rs. 100M AIF 2: Mininum Rs. 5.00 M & Maximum Rs. 50M AIF 3: Maximum Rs. 30M or upto 30% of FSV of offered property, whichever is lower\\nAIF 4: Maximum Rs. 5M or upto 25% of FSV of offered property, whichever is lower',\n",
       " 'Q: What is the maximum tenure of NUST Imarat Finance? for NUST Imarat Finance\\nA: AIF 1: Maximum 10 Years (Grace Period upto 6 months) AIF 2: Maximum 10 Years(Grace Period upto 9 months) AIF 3: Maximum 8 Years (Grace Period upto 6 months) AIF 4: Maximum 03 Years (Grace Period upto 3 months) (markup to be recovered during grace period)',\n",
       " 'Q: Does the bank require any Equity for this scheme? for NUST Imarat Finance\\nA: AIF 1 & AIF 2: Minimum 30% (Existing business) & Minimum 40% (New Business)\\nAIF 3 & AIF 4 : Nil for Existing business & Minimum 25% (New Business)',\n",
       " 'Q: Is there any minimum age to avail financing in NUST Imarat Finance? for NUST Imarat Finance\\nA: New Business\\nMinimum 30 years at the time of application, however age not to exceed 60 years at maturity of loan. Existing Business Minimum 30 years at the time of application however age not to exceed 65 years at maturity of loan.',\n",
       " 'Q: Any mandatory qualification/experience required? for NUST Imarat Finance\\nA: Specifically for New Business: i)\\tOnly Professionals i.e. Chartered Accountants, Doctors, Engineers, IT Professionals, and consultants etc, with minimum 02 years professional experience. ii)\\tRetired professionals from armed forces and families of serving armed forces officers *No Professional Qualification Required for existing business',\n",
       " 'Q: What is the current Mark-up rate of NUST Imarat Finance? for NUST Imarat Finance\\nA: General Regular SME’s End-user Rate: 12MK+4% p.a. (to be reviewed on annual basis) SME’s Backed By Armed Forces\\nEnd-user Rate: 12MK+2.5 p.a. (to be reviewed on annual basis)',\n",
       " 'Q: Is there any business age requirement? for NUST Imarat Finance\\nA: Existing Business Minimum 03 year operating history of business',\n",
       " 'Q: What should be the legal structure of business for availing  NUST Imarat Finance? for NUST Imarat Finance\\nA: Sole Proprietor, Partnership Firm(registered), Private Limited Company, Limited Company',\n",
       " 'Q: What is the security requirement for availing NUST Imarat Finance? for NUST Imarat Finance\\nA: i.\\tEffective Mortgage (Equitable / or token registered) to be created on same urban Commercial / Industrial property which has been financed\\nii.\\t03 post dated cheques of the full loan amount plus markup\\niii.\\tPersonal Guarantees from borrowers, all partners and directors of the companies alongwith “Personal Net worth Statement”.\\niv.\\tFard based property to be registered equivalent to the full loan amount',\n",
       " 'Q: What is the repayment frequency in NUST Imarat Finance? for NUST Imarat Finance\\nA: Monthly/Quarterly',\n",
       " 'Q: Is there any condition related to bank account maintenance for availing NUST Imarat Finance? for NUST Imarat Finance\\nA: Minimum 01 year bank account statement with NUST Or\\nMinimum 02 years bank statement with any other bank',\n",
       " 'Q: Is there any penalty charges related to Premature termination/balloon payment penalties? for NUST Imarat Finance\\nA: Mode of Pre-Mature termination General Category Armed Forces Category i. In case entire outstanding loan is adjusted within 03 years of first disbursement At 3% of the total outstanding loan amount At 2% of the total outstanding loan amount ii. In case entire outstanding loan is adjusted after 03 years At 2% of the total outstanding loan amount At 1% of the total outstanding loan amount iii. Balloon Payment Balloon Payment upto 20% of loan outstanding amount is allowed once in each year without penalty. Adjustment of over and above 20% will be charged @ 2% of balloon payment Amount Balloon payment upto 30% of loan outstanding amount is allowed once in each year without penalty. Adjustment of over and above 30% will be charged @1% of balloon payment amount *Premature termination penalty will not be applicable in case of renovation',\n",
       " 'Q: What are the processing charges for NUST Imarat Finance Application? for NUST Imarat Finance\\nA: Rs 30,000/- or 0.2% of loan amount whichever is higher (Non-refundable)',\n",
       " 'Q: Are there any late payment charges? for NUST Imarat Finance\\nA: Rs. 3,000/- per installment',\n",
       " 'Q: What are the service/documentation/legal charges in NUST Imarat Finance? for NUST Imarat Finance\\nA: At actual',\n",
       " 'Q: What are the valuation/BOQ charges? for NUST Imarat Finance\\nA: At actual',\n",
       " 'Q: Is NUST Bank offering any financing product related to renewable/alternate energy solutions? for NUST Ujala Finance\\nA: NUST Bank has structured a new financing product under the name of “NUST Ujala Finance (NUST Ujala Finance)” in light of SBP’s refinance scheme, under the ambit of SME. The Product Program has been developed to provide financing for installation of solar energy equipment as an alternate source of energy.',\n",
       " 'Q: who can apply for NUST Ujala Finance? for NUST Ujala Finance\\nA: 1. SE/ME Financing 2. Vendor’s / Suppliers’ Financing 3. NUST Employees’ Financing 4. Domestic Applicant Financing (exclusively for employees of corporate / government sector)',\n",
       " 'Q: Is there any minimum age to avail financing in NUST Ujala Finance? for NUST Ujala Finance\\nA: SE/ME Financing: Between 25-55 years at the time of application. (Any one partner/ director should meet age criteria)\\nVendors/Suppliers: Between 25-55 years at the time of application. (Any one partner/ director should meet age criteria)\\nNUST Employees’ Financing: No age limit Domestic Applicant Financing: Between 25-55 years at the time of application. (Any one borrower or co-borrower should meet criteria)',\n",
       " 'Q: For which purposes NUST Ujala Finance is being offered? for NUST Ujala Finance\\nA: SME, NUST Employees and Domestic: Energy generation for own use or for supply to the distribution company / NEPRA Vendors/Suppliers: Onward leasing of renewable energy equipment / deferred payment sales / rental basis or sale of electricity to ultimate users',\n",
       " 'Q: Capacity allowed under NUST Ujala Finance? for NUST Ujala Finance\\nA: i. Business Enterprise : SE from 10 KW to 200KW, ME from 30 KW to 500KW\\nii. Domestic Borrowers from 5 KW to 30KW\\niii. NUST employees : upto 30 KW.\\nIv. Vendors/Suppliers: from 30 KW to 500KW',\n",
       " 'Q: Loan Amount that can be availed under NUST Ujala Finance? for NUST Ujala Finance\\nA: i. Small Enterprise – upto Rs. 15 M\\nii. Medium Enterprise – upto Rs. 25M\\niii. Domestic users - from Rs. 0.5M to Rs. 3.0M\\niv. NUST employees: - upto Rs. 3.00M\\nv. Vendors/Suppliers:: From Rs. 5M to 25 Million – (Single Vendor)',\n",
       " 'Q: What is the current Mark-up rate of NUST Ujala Finance? for NUST Ujala Finance\\nA: 6 % per annum for all\\n*Markup at 12M Kibor + 4% Per Annum to be charged till refinance claim reimbursed by SBP.',\n",
       " 'Q: What is the maximum tenure for NUST Ujala Finance? for NUST Ujala Finance\\nA: i. SE/ME borrowers: 05 years, inclusive of grace period of 03 months.\\nii. Domestic : 05 years inclusive of grace period of 03 months.\\niii. NUST employees : 10 years or as per remaining service period (whichever is lesser), inclusive of grace period of 03 months. iv. Vendors/Suppliers: 05 years inclusive of grace period of 06 months',\n",
       " 'Q: What is the repayment frequency in NUST Ujala Finance? for NUST Ujala Finance\\nA: SE/ME Borrowers : Monthly / Quarterly\\nDomestic Borrower : Monthly NUST employees : Monthly Vendors/Suppliers : Quarterly/Half Yearly (as per borrower’s cash flow)',\n",
       " 'Q: What are the processing charges for NUST Ujala Finance Application? for NUST Ujala Finance\\nA: SE/ME/Vendor/Supplier Rs: 6000/- or @0.5% of loan whichever is higher Domestic Borrower Rs: 5000/- NUST Employees No Processing Fee',\n",
       " 'Q: Is there any late payment charges? for NUST Ujala Finance\\nA: In case of delay of installment, commercial rate will be charges on overdue days.',\n",
       " 'Q: What are the service/documentation/legal charges in NUST Ujala Finance? for NUST Ujala Finance\\nA: At actual',\n",
       " 'Q: What are the insurance charges? for NUST Ujala Finance\\nA: At actual',\n",
       " 'Q: Is NUST Bank offering any seasonal financing? for NUST Flour Mill Finance\\nA: Seasonal finance product \"NUST Flour Mill Finance” has been structured through for quick financing under program-based lending. The product has been designed for Flour Mills in order to meet their working capital needs. NUST Flour Mill Finance caters to meet seasonal financing needs of wheat procurement and other overhead expenses to flour mills. The scope of product is to target flour mills which fall under category of SME.',\n",
       " 'Q: For which purposes NUST Flour Mill Finance is being offered? for NUST Flour Mill Finance\\nA: Cash Finance (CF)\\nTo meet working capital requirements of flour mill business for procurement of wheat as per milling capacity Running Finance (RF)\\nTo meet working capital requirements i.e. transportation, salary & wages, utility and other administrative expenses etc. (Procurement of wheat through RF funds is restricted)',\n",
       " 'Q: What are the Loan Limits of NUST Flour Mill Finance? for NUST Flour Mill Finance\\nA: Per party (single entity) can avail up to Rs. 75M for ME and Rs. 25M for SE',\n",
       " 'Q: Is there any minimum age to avail financing in NUST Flour Mill Finance? for NUST Flour Mill Finance\\nA: Age of borrower (in case of sole-proprietorship) must be minimum 20 years, however age not to exceed 65 years at the time of application. This age can be relaxed in case of effective succession planning for business operations. * This criteria is not applicable , if business concern is a partnership or limited company',\n",
       " 'Q: What is the maximum tenure of NUST Flour Mill Finance? for NUST Flour Mill Finance\\nA: Maximum 1 year as per clean-up corridors',\n",
       " 'Q: What is the current Mark-up rate of NUST Flour Mill Finance? for NUST Flour Mill Finance\\nA: Cash Finance\\n3 Months average KIBOR + 3% p.a. Running Finance\\n3 Months average KIBOR + 3.5% p.a. (reviewed/revised on quarterly basis)',\n",
       " 'Q: Any Account turnover requirement for NUST Flour Mill Finance? for NUST Flour Mill Finance\\nA: Minimum 50% of applicant’s sales to be documented through account turnover with bank(s).',\n",
       " 'Q: What are the processing charges for NUST Flour Mill Finance Application? for NUST Flour Mill Finance\\nA: Processing fee will be charged @ 0.15% of total limit(s) processed/approved or Rs. 25,000/- whichever is higher',\n",
       " 'Q: What are the service/documentation/legal charges in NUST Flour Mill Finance? for NUST Flour Mill Finance\\nA: At actual',\n",
       " 'Q: What are the insurance charges? for NUST Flour Mill Finance\\nA: At actual',\n",
       " 'Q: Is NUST Bank offering any financing against liquid security? for NUST Fauri Business Finance\\nA: NUST Fauri Business Finance” has been introduced to provide a swift package to meet financial business needs of new to bank obligor. AFBF is offered to meet short, medium and long-term requirements of business. The finance will be provided to SMEs & Commercial for all the eligible sectors as per NUST credit policy manual.',\n",
       " 'Q: What is the Eligibility Criteria for business entity in Ask Fauri Business Finance? for NUST Fauri Business Finance\\nA: All except individuals',\n",
       " 'Q: Is there any business age requirement? for NUST Fauri Business Finance\\nA: No',\n",
       " 'Q: What is the nature of financing offered under Ask Fauri Business Finance? for NUST Fauri Business Finance\\nA: AFBF-1: Running Finance\\nAFBF-2: Term Loan\\nAFBF-3: Letter of Guarantee\\nAFBF-4: Letter of Credit – Sight / Usance',\n",
       " 'Q: What is the current Mark-up rate of Ask Fauri Business Finance? for NUST Fauri Business Finance\\nA: AFBF-1: 3MK /COD +1.50%\\nAFBF-2: 12 MK /COD +2.0%\\nAFBF-3: As per SOC\\nAFBF-4: As per SOC',\n",
       " 'Q: What is the principal repayment frequency in Ask Fauri Business Finance? for NUST Fauri Business Finance\\nA: AFBF-1: At Maturity\\nAFBF-2: Monthly / Quarterly\\nAFBF-3: Upon expiry / redemption\\nAFBF-4: Upon retirement',\n",
       " 'Q: What is the markup repayment frequency in Ask Fauri Business Finance? for NUST Fauri Business Finance\\nA: AFBF-1: Monthly / Quarterly\\nAFBF-2: Monthly / Quarterly\\nAFBF-3: Upfront\\nAFBF-4: Upfront',\n",
       " 'Q: What is the maximum tenure of Ask Fauri Business Finance? for NUST Fauri Business Finance\\nA: AFBF-1: Up to 1 Year\\nAFBF-2: Up to 3 Year\\nAFBF-3: Up to 30 Months\\nAFBF-4: At Sight / Usance period 120 days',\n",
       " 'Q: What are the Loan Limits of Ask Fauri Business Finance? for NUST Fauri Business Finance\\nA: Max Rs. 200 Mn (For all products)',\n",
       " 'Q: Is there any grace period allowed in any financing? for NUST Fauri Business Finance\\nA: Grace period of 3 months allowed for AFBF 2 (Term Loan Only)',\n",
       " 'Q: In how many days the loan can be approved in Ask Fauri Business Finance? for NUST Fauri Business Finance\\nA: Turnaround time (TAT) for disposal off the approval is fixed to 03 days from the date of pre-approval completion of documents',\n",
       " 'Q: What is the collateral requirment for Ask Fauri Business Finance? for NUST Fauri Business Finance\\nA: •\\tNUST : Lien on NUST deposit CA/SA/ TDR, including 3rd party (LCY/FCY)\\n•\\tNational Saving Certificates (NSC): (Lien over NSC including joint name/owner)',\n",
       " 'Q: What are the processing charges for Ask Fauri Finance Application? for NUST Fauri Business Finance\\nA: Flat @ Rs. 3,000/- (at the time of initiating and on each renewal)',\n",
       " 'Q: What are the service/documentation/legal charges in Ask Fauri Business Finance? for NUST Fauri Business Finance\\nA: At actual',\n",
       " 'Q: Is there any premature termination / Balloon payment charges? for NUST Fauri Business Finance\\nA: Nil',\n",
       " 'Q: Is NUST Bank Participating in PMYB & ALS? for Prime Minister Youth Business & Agriculture Loan Scheme\\nA: NUST Bank is actively participating in PMYB&ALS. It has been specially designed to provide self-employment opportunity to the unemployed youth of the country who have skills, knowledge, experience or willingness to start their own businesses on small to medium scale or expand existing business on vast scale.',\n",
       " 'Q: For which purposes PMYB & ALS is being offered? for Prime Minister Youth Business & Agriculture Loan Scheme\\nA: •\\tTo start new business •\\tTo expand existing business',\n",
       " 'Q: Nature of loans allowed in PMYB & ALS? for Prime Minister Youth Business & Agriculture Loan Scheme\\nA: •\\tLong term / Development Loans\\n•\\tWorking capital / Production Loans',\n",
       " 'Q: What are the Loan Limits of PMYB & ALS? for Prime Minister Youth Business & Agriculture Loan Scheme\\nA: Tier 2 Above Rs. 0.5M and up to Rs 1.5M Tier 3 Above Rs 1.5 M and up to Rs 7.5M',\n",
       " 'Q: Is there any minimum age to avail financing in PMYB & ALS and any mandatory qualification/experience required? for Prime Minister Youth Business & Agriculture Loan Scheme\\nA: All Pakistanis aged between 21 and 45 are eligible to apply, however for IT/E-Commerce related businesses, the lower age limit will be 18 years (at least matriculation or equivalent education will be required)',\n",
       " 'Q: What is the maximum tenure in PMYB & ALS? for Prime Minister Youth Business & Agriculture Loan Scheme\\nA: Long Term Loan: Maximum 8 Years (Maximum 1 Year Grace Period) Working Capital Loan: Maximum 05 Years (Maximum 2 Year Grace Period) *Markup will be recovered during grace period',\n",
       " 'Q: What is the current Mark-up rate of PMYB & ALS? for Prime Minister Youth Business & Agriculture Loan Scheme\\nA: Tier 2 5% per annum Tier 3 7% per annum',\n",
       " 'Q: Does the bank require any Equity for this scheme? for Prime Minister Youth Business & Agriculture Loan Scheme\\nA: Tier 2\\n10% (New Business) Tier 3 20% (New Business) Existing Business Nil',\n",
       " 'Q: What is the repayment frequency in PMYB & ALS? for Prime Minister Youth Business & Agriculture Loan Scheme\\nA: Repayment of PMYB&ALS loans will be made in the form of “monthly or quarterly Instalments (or as per SBP’s directives)',\n",
       " 'Q: What is the security requirement for availing PMYB & ALS? for Prime Minister Youth Business & Agriculture Loan Scheme\\nA: Tier 2\\ni.\\tClean; personal guarantee of the borrower\\nii.\\t02 Post Dated cheques for installment amount iii.\\t01 Post Dated cheque for full loan amount plus mark up as per amortization schedule Tier 3\\ni.\\tMortgage of residential / commercial / industrial property owned by borrower or third party\\nii.\\tHPA on vehicle in the name of borrower or immediate family member i.e. parents, spouse, children, brothers or sisters.\\niii.\\tLiquid security (lien on deposit, Saving certificates, TDRs etc.)',\n",
       " 'Q: Is there any quota for womens? for Prime Minister Youth Business & Agriculture Loan Scheme\\nA: 25% of the loans will go to women borrowers',\n",
       " 'Q: What are the processing charges for PMYB & ALS? for Prime Minister Youth Business & Agriculture Loan Scheme\\nA: Rs. 100/-',\n",
       " 'Q: What are the service/documentation/legal charges in PMYB & ALS? for Prime Minister Youth Business & Agriculture Loan Scheme\\nA: At actual',\n",
       " 'Q: Is there any late payment charges? for Prime Minister Youth Business & Agriculture Loan Scheme\\nA: PKR 1,000/- plus FED per instance per installment, grace period included. (Late Payment to be triggered 15 days after installment becomes due i.e. on day 16)',\n",
       " 'Q: Is NUST Bank offering any seasonal financing for rice mills? for NUST Rice Finance\\nA: NUST Rice Finance caters to meet seasonal financing needs of paddy procurement and other overhead expenses to rice mills, based on past performance and milling capacity to fulfil their seasonal financial needs. The scope of the product is to target ‘Rice Mills’ which fall under the category of SME.',\n",
       " 'Q: For which purposes NUST Rice Finance is being offered? for NUST Rice Finance\\nA: Cash Finance (CF)\\nTo meet working capital requirements of Rice Husking Mills for procurement of paddy as per milling capacity. Running Finance (RF)\\nTo meet working capital requirements of Rice Husking Mills i.e. transportation, salary & wages, utility and other administrative expenses etc.(Procurement of Paddy through RF funds is restricted)',\n",
       " 'Q: What are the Loan Limits of NUST Rice Finance? for NUST Rice Finance\\nA: ME: Upto Rs.200M (Maximum)\\nSE: Upto Rs.25M (Maximum)',\n",
       " 'Q: Is there any minimum age to avail financing in NUST Rice Finance? for NUST Rice Finance\\nA: Minimum 20 years (in case of sole proprietorship)\\nMaximum 65 years at the time of application. * This criteria is not applicable if business concern is a partnership or limited company\\n*This age can be relaxed in case of effective succession planning is available.',\n",
       " 'Q: What is the maximum tenure of NUST Rice Finance? for NUST Rice Finance\\nA: Cash Finance\\nMax 270 Days or Clean-up corridors whichever is earlier Running Finance\\nOne Year',\n",
       " 'Q: What is the current Mark-up rate of NUST Rice Finance? for NUST Rice Finance\\nA: Cash Finance\\n3 Months KIBOR + Up to 3.00% p.a Running Finance\\n3 Months KIBOR + Up to 3.50% p.a (reviewed/revised on quarterly basis)',\n",
       " 'Q: Any Account turnover requirement for NUST Rice Finance? for NUST Rice Finance\\nA: Minimum 50% of applicant’s sales to be documented through account turnover with bank(s).',\n",
       " 'Q: What are the processing charges for NUST Rice Finance Application? for NUST Rice Finance\\nA: Processing fee will be charged @ 0.15% of total limit(s) processed/approved or Rs. 25,000/- whichever is higher',\n",
       " 'Q: What are the service/documentation/legal charges in NUST Rice Finance? for NUST Rice Finance\\nA: At actual',\n",
       " 'Q: What are the insurance charges? for NUST Rice Finance\\nA: At actual',\n",
       " 'Q: Is there any business loan product offered by NUST for families of armed forces and retired officers of the armed forces? for NUST Hunarmand Finance\\nA: NUST Hunarmand Finance is a sub product of PMYB&ALS which is structured with an objective to provide business opportunity to specific target market.\\n•\\tRetired commissioned, junior commissioned, non-commissioned officers of the armed forces and their family members i.e. spouse and children\\n•\\tSpouse and children of serving commissioned, junior commissioned and non-commissioned officers of armed forces.',\n",
       " 'Q: For which purposes NUST Hunarmand Finance is being offered? for NUST Hunarmand Finance\\nA: •\\tTo start new business •\\tTo expand existing business',\n",
       " 'Q: Nature of loan allowed in NUST Hunarmand Finance? for NUST Hunarmand Finance\\nA: •\\tLong term / Development Loans\\n•\\tWorking capital / Production Loans',\n",
       " 'Q: What are the Loan Limits of NUST Hunarmand Finance? for NUST Hunarmand Finance\\nA: Tier 2 Above Rs. 0.5M and up to Rs 1.5M Tier 3 Above Rs 1.5 M and up to Rs 7.5M',\n",
       " 'Q: Is there any minimum age to avail financing in NUST Hunarmand Finance? for NUST Hunarmand Finance\\nA: All Pakistanis aged between 21 and 45 are eligible to apply, however for IT/E-Commerce related businesses, the lower age limit will be 18 years',\n",
       " 'Q: What is the maximum tenure in NUST Hunarmand Finance? for NUST Hunarmand Finance\\nA: Long Term Loan: Maximum 8 Years (Maximum 1 Year Grace Period) Working Capital Loan: Maximum 05 Years (Maximum 2 Year Grace Period) *Markup will be recovered during grace period',\n",
       " 'Q: What is the current Mark-up rate of NUST Hunarmand Finance? for NUST Hunarmand Finance\\nA: Tier 2\\n4.5% per annum Tier 3 6.5 % per annum',\n",
       " 'Q: Does the bank require any Equity for this scheme? for NUST Hunarmand Finance\\nA: Tier 2\\n10% (New Business) Tier 3 20% (New Business) In case of existing business, equity is not required',\n",
       " 'Q: What is the repayment frequency in NUST Hunarmand Finance? for NUST Hunarmand Finance\\nA: Repayment of AHF loans will be made in the form of “monthly or quarterly Instalments (or as per SBP’s directives)',\n",
       " 'Q: What is the security requirement for availing NUST Hunarmand Finance? for NUST Hunarmand Finance\\nA: i.\\tPersonal guarantee of borrower for loans up to 1.5M, and direct debit authority of borrower/pensioner/guarantor to be obtained\\nii.\\tFor loans above 1.5M, it shall be secured against movable as well as immovable assets of borrowers as defined under PMYB&ALs\\niii.\\tGuarantee of serving officer of armed forces in case of his family (spouse or children) avail loan under this program.',\n",
       " 'Q: Are there any late payment charges? for NUST Hunarmand Finance\\nA: Late payment charges PKR 1,000/- plus FED will be charges after 30th day of installment overdue.',\n",
       " 'Q: What are the charges applicable for NUST Hunarmand Finance? for NUST Hunarmand Finance\\nA: Applicable as per PMYB & ALS',\n",
       " 'Q: Can I purchase Bancassurnce policy from my account maintained with NUST Bank? for NUST Life Bancassurance Policy\\nA: Yes, every customer who attain the age of 18 and have account with NUST Bank can eligible to purchse Bancassurnce policy from his account. Bancassurance is offiered by following three Insurance Provider companies: · NUST Life Assurancee Company Ltd · EFU Life Assurence Company Ltd · Jubilee Life Insurance Company Ltd.',\n",
       " 'Q: What are the main features of NUST Life Bancassurnace Policy? for NUST Life Bancassurance Policy\\nA: - Short term Family Protection and in Long term Savings - Minimum Policy Amount = 18,000 No Maximum Limit of policy for Munafa Fahfooz Plan Min Premium = 50,000 - NUST Life Munafa Mehfooz Plan Minumum & Maximum Term = 5 Years - NUST Life Value Plan Minimum Policy Term = 10 Years - Additional benefits also available on cost (Riders and additional term insurance) - NUST Life offer diffent plans to customer as per needs and demands of customers',\n",
       " 'Q: How many NUST Life  Insurance Plans available? for NUST Life Bancassurance Policy\\nA: Plan Type Premium o NUST Life Value Plan Life time Protection and Saving Plan 18K o NUST Life Munafa Mehfooz Plan Limited Time Plan (5 Years) 50K What are the main features of these NUST Life Insurance Plans - 14 Days Free Look Period start from the day customer received Policy Documents. - Direct Investment system growth Plans (NUST Life directly invest funds in Universal Life Mutual fund - NUST bank is only act as a Corporate Sales Agent, It’s a Insurance plan not to be considered as any Bank Account of Term depoist which have annual Fixed Returns. - In case of early termination, only Cash Value of policy will be payable to customer - Cancellation of policy and full refund option is available if policy documents returned during Free Lookup Period i.e. 14 days of receipt of documents - Cash Values of policy may be differ from the tentaive returns provided on illustration document (illustration document is only for information) Other Important Information about NUST Life Insurance Plans - Munafa Mehfooz Plan is limited time plan of 5 Years with first year High Allocation and upfront loyalty bonus i.e. 20% on first year - In case of early termination of Munafa Mehfooz Plan - upfront loyalty bonus amount value will be subtracted from the cash value of policy - In case of death Cash Value or Sum Assured whichiver is higher will be paid to nominee/s - Annaul / Half Yearly / Quarterly - Policy Premium Payment Mode Available as per customer conveience - Policy Growth depends on Accociated Mutual Fund growth - Death Claims will be handled by NUST Life subject of completion of required documents and eligible if policy status is Active Inforced/Reinstated only For All NUST Life Banca Products Brochures available',\n",
       " 'Q: Can I purchase Bancassurnce policy from my account maintained with NUST Bank? for EFU Life Bancassurance Policy\\nA: Yes, every customer who attain the age of 18 and have account with NUST Bank can eligible to purchse Bancassurnce policy from his account. Bancassurance is offiered by following three Insurance Provider companies: · NUST Life Assurancee Company Ltd · EFU Life Assurence Company Ltd · Jubilee Life Insurance Company Ltd.',\n",
       " 'Q: What are the main features of EFU Bancassurnace Policy? for EFU Life Bancassurance Policy\\nA: - Family Protection and Long term savings - Minimum Policy Amount = 18,000 No Maximum Limit of policy - Minimum Policy Term = 10 Years (Except Single Premium Plan) - Additional benefits also available on cost (Riders and additional term insurance) - EFU Life offer diffent plans to customer as per needs and demands of customers',\n",
       " 'Q: How many EFU Insurance Plans available? for EFU Life Bancassurance Policy\\nA: Plan Type Premium o EFU Savings and Protection Plan Life time Protection and Saving Plan 18K o EFU Education and Marriage Plan Limited Time Plan (Countinuation Benefits) 18K o EFU Retirement Plan Saving & Protection 18K o EFU - Single Premium Plan Single Premium Investment Plan 100K o EFU Aggressive Growth Plan High Allocation Investment & Savings Plan 250K',\n",
       " 'Q: What are the main features of these EFU Insurance Plans? for EFU Life Bancassurance Policy\\nA: - 14 Days Free Look Period start from the day customer received Policy Documents. #REF! - Unit Link growth system (EFU allocate Mutual fund units to customer, policy growth depends on the unit rate groth just like share Market) - NUST bank is only act as a Corporate Sales Agent, It’s a Insurance plan not to be considered as any Account of Term depoist which have annual Fixed Returns. - In case of early termination, only Cash Value of policy will be payable to customer (current market rate of Mutual funds units will be reimbursed) - Cancellation of policy and full refund option is available if policy documents returned during Free Lookup Period i.e. 14 days of receipt of documents - Cash Values of policy may be differ from the tentaive returns provided on illustration document (illustration document is only for information) Other Important Information about EFU Insurance Plans - Only Education and Marriage Plans are Limited time plan with Countinuation Benefits (in case of death payment will be made upon maturity) - Single Premium Plan which can be terminate at any time, in case of death Cash Value or Sum Assured whichiver is higher will be paid - Annaul / Half Yearly / Quarterly - Policy Premium Payment Modes Available as per customer conveience - Aggressive Growth Plan is a high risk Plan depends on customer profile - Death Claims will be handled by EFU subject of completion of required documents and eligible if policy status is Active Inforced/Reinstated only For All EFU Life Banca Products Brochures available',\n",
       " 'Q: Can I purchase Bancassurnce policy from my account maintained with NUST Bank? for Jubilee Life Bancassurance Policy\\nA: Yes, every customer who attain the age of 18 and have account with NUST Bank can eligible to purchse Bancassurnce policy from his account. Bancassurance is offiered by following three Insurance Provider companies: · NUST Life Assurancee Company Ltd · EFU Life Assurence Company Ltd · Jubilee Life Insurance Company Ltd.',\n",
       " 'Q: What are the main features of JLI Bancassurnace Policy? for Jubilee Life Bancassurance Policy\\nA: - Short term Family Protection and in Long term Savings - Minimum Policy Amount = 18,000 No Maximum Limit of policy - Minimum Policy Term = 10 Years - Additional benefits also available on cost (Riders and additional term insurance) - Jubilee Life offer diffent plans to customer as per needs and demands of customers',\n",
       " 'Q: How many Jubilee Life Insurance Plans available? for Jubilee Life Bancassurance Policy\\nA: Plan Type Premium o Jubilee Life Savings and Protection Plan Life time Protection and Saving Plan 18K o Jubilee Life Education Plan Limited Time Plan (Countinuation Benefits) 18K o Jubilee Life Marriage Plan Limited Time Plan (Countinuation Benefits) 18K o Jubilee Life Retirement Plan Saving & Protection 18K What are the main features of these Jubilee Life Insurance Plans - 14 Days Free Look Period start from the day customer received Policy Documents. #REF! - Unit Link growth system (JLI allocate Mutual fund units to customer, policy growth depends on the unit rate groth just like share Market) - NUST bank is only act as a Corporate Sales Agent, It’s a Insurance plan not to be considered as any Account of Term depoist which have annual Fixed Returns. - In case of early termination, only Cash Value of policy will be payable to customer (current market rate of Mutual funds units will be reimbursed) - Cancellation of policy and full refund option is available if policy documents returned during Free Lookup Period i.e. 14 days of receipt of documents - Cash Values of policy may be differ from the tentaive returns provided on illustration document (illustration document is only for information) Other Important Information about Jubilee Life Insurance Plans - Only Education and Marriage Plans are Limited time plan with Countinuation Benefits (in case of death payment will be made upon maturity) - In case of death Cash Value or Sum Assured whichiver is higher will be paid - Annaul / Half Yearly / Quarterly - Policy Premium Payment Mode Available as per customer conveience - Policy Growth depends on Accociated Mutual Fund units market rate growth (Multiple funds choices available from JLI) - Death Claims will be handled by Jubilee Life subject of completion of required documents and eligible if policy status is Active Inforced/Reinstated only For All Jubilee Life Banca Products Brochures available',\n",
       " 'Q: What is Home Remittance ? for Home Remittances\\nA: Home Remittance Service enables remitters to send money from abroad to Pakistan instantly, conveniently, and safely through the legal banking channel.',\n",
       " 'Q: What types of Inward Home Remittance products does NUST Bank offer ? for Home Remittances\\nA: NUST offers the following Home Remittance Products to cater to the needs of various home remittance\\nbeneficiaries in Pakistan:\\n• Cash Over the Counter (CoC) payments for walk-in customers\\n• NUST Account Transfer\\n• Other Bank Account Transfer via Inter Bank Funds Transfer (IBFT) & Real Time Gross Settlement (RTGS)',\n",
       " 'Q: In which currency will I receive my remittance? for Home Remittances\\nA: All home remittance payments are disbursed in Pak Rupees.',\n",
       " 'Q: Is there any limit on the amount received though NUST Home Remittance? for Home Remittances\\nA: Below are the applicable limits:\\n• NUST Accounts - No Limit\\n• Other banks accounts - No Limit\\n• Cash Over the Counter (CoC) Transactions - Up to PKR 1,000,000/- per transaction and there is no limit of Western Union COC transactions',\n",
       " \"Q: Are there any charges/fee for NUST's Home Remittance Service? for Home Remittances\\nA: NUST Home Remittance Service is free of charge.\",\n",
       " 'Q: Are there any tax deductions on Home Remittances? for Home Remittances\\nA: Home Remittance Service is free of taxes.',\n",
       " 'Q: Can I receive remittance in Pakistan if I do not have a bank account with any bank? for Home Remittances\\nA: You can receive your home remittance from any of NUST 600+ domestic branches nationwide if you have a valid CNIC and Transaction Unique Reference No. / Pin code.',\n",
       " 'Q: Is there any list of branches I can access to get information? for Home Remittances\\nA: The list of NUST domestic branches can be viewed from the Branch Locator available on our corporate website www.nustbank.com . https://NUSTbank.com/find-us/',\n",
       " 'Q: Who should I contact in case I need to lodge a complaint regarding Home Remittance? for Home Remittances\\nA: For any query/complaint regarding Home Remittance, you may contact our dedicated Remittance Service Centre at UAN# 021-111-000-787. You may also email your queries/complaints at remittance@NUSTbank.com.pk',\n",
       " 'Q: How can I obtain a Proceed Realization Certificate (PRC)/Encashment Certificate against remittance(s) received? Who should I contact? for Home Remittances\\nA: Please find below contact details for obtaining a PRC and e-PRC: • e-PRC option is also available at the NUST website https://secureportal.NUSTbank.com/eprc/customer to obtain a system generated PRC on your registered email address. • Proceeds Realization Certificate (PRC) is issued from NUST Centralized Remittance Department. You may contact them at the following email addresses:\\nremittance.prc@NUSTbank.com.pk',\n",
       " 'Q: Can I track my remittance status online? for Home Remittances\\nA: Yes, you can view the status of your remittance online through NUST Remittance Tracker by following link https://NUSTbank.com/services/alternate-delivery-channels/home-remittance-tracking/',\n",
       " \"Q: What are NUST's Banking hours to avail home remittance services from NUST Branches? for Home Remittances\\nA: Customers can avail home remittance services from NUST domestic branches during regular business hours appended below:\\n• Monday to Thursday: 09:00 am to 05:00 pm\\n• Friday: 09:00 am to 05:30 pm\\n• Saturday: 09:00 am to 01:30 pm (through selected branches)\",\n",
       " 'Q: Is it important to declare the purpose of the funds being sent to Pakistan? for Home Remittances\\nA: Yes, it is mandatory to provide purpose of funds being sent to Pakistan.',\n",
       " 'Q: I am a foreign national, can I send money to Pakistan? for Home Remittances\\nA: Yes, you can.',\n",
       " 'Q: Does the PRI comes under the laws of State Bank or Government? for Home Remittances\\nA: It is a joint initiative of State Bank of Pakistan, Ministry of overseas Pakistanis and Ministry of Finance.',\n",
       " 'Q: Can the Freelance payment  be made through PRI? for Home Remittances\\nA: Yes Freelance payments is allowed under specfic arrangemnts with Tie-ups with allowed purposes as per SBP guidelines.',\n",
       " 'Q: What conversion rates will be applied on remittance? for Home Remittances\\nA: The same conversion rates will be applied at the time of sending the remittance. Affiliated bank or Exchange Company confirm the Conversion rates to Sender at the time of sending the remittance.',\n",
       " 'Q: Does NUST Bank has specialized remittance Account as per SBP guideline? for Home Remittances\\nA: Yes NUST has remittance account name as Pak Wattan Remittance Account.',\n",
       " 'Q: Who can open Pak Wattan Remittance Account? for Home Remittances\\nA: A Bonafide recipient of Home remittance (PRI) can open this account.',\n",
       " 'Q: Can remittance be sent from anywhere to Pakistan? for Home Remittances\\nA: Yes, remittance can be sent from around the globe to Pakistan through our agent Partners like Western Union, Mastercard, Dandelion Payments (RIA) etc. For more information please go through the below link: https://NUSTbank.com/services-home-remittance-our-partners/']"
      ]
     },
     "execution_count": 3,
     "metadata": {},
     "output_type": "execute_result"
    }
   ],
   "source": [
    "documents"
   ]
  },
  {
   "cell_type": "code",
   "execution_count": 2,
   "id": "275ece0f",
   "metadata": {},
   "outputs": [],
   "source": [
    "import requests"
   ]
  },
  {
   "cell_type": "code",
   "execution_count": null,
   "id": "00e5a58b",
   "metadata": {},
   "outputs": [],
   "source": [
    "import requests\n",
    "\n",
    "HUGGINGFACE_API_KEY = API_KEY  # Replace with your Hugging Face API key\n",
    "\n",
    "def query_qwen_model(prompt: str) -> str:\n",
    "    API_URL = \"https://api-inference.huggingface.co/models/Qwen/Qwen3-4B\"\n",
    "    headers = {\n",
    "        \"Authorization\": f\"Bearer {HUGGINGFACE_API_KEY}\",\n",
    "        \"Content-Type\": \"application/json\"\n",
    "    }\n",
    "    payload = {\n",
    "        \"inputs\": prompt,\n",
    "        \"parameters\": {\n",
    "            \"do_sample\": True,\n",
    "            \"temperature\": 0.7,\n",
    "            \"top_p\": 0.95,\n",
    "            \"max_new_tokens\": 300\n",
    "        }\n",
    "    }\n",
    "\n",
    "    response = requests.post(API_URL, headers=headers, json=payload)\n",
    "    response.raise_for_status()\n",
    "    result = response.json()\n",
    "\n",
    "    # Extract response from generated text\n",
    "    if isinstance(result, list):\n",
    "        return result[0][\"generated_text\"].replace(prompt, \"\").strip()\n",
    "    elif \"error\" in result:\n",
    "        return f\"Error: {result['error']}\"\n",
    "    return str(result)\n"
   ]
  },
  {
   "cell_type": "code",
   "execution_count": 4,
   "id": "42b4eb28",
   "metadata": {},
   "outputs": [],
   "source": [
    "def generate_answer(user_query):\n",
    "    # (Assuming you already retrieved the context from FAISS or any document store)\n",
    "    context = retrieve_context(user_query)  # You define this function\n",
    "\n",
    "    prompt = f\"\"\"You are a helpful assistant. Use the following context to answer the question.\n",
    "\n",
    "    Context:\n",
    "    {context}\n",
    "\n",
    "    Question:\n",
    "    {user_query}\n",
    "\n",
    "    Answer:\"\"\"\n",
    "\n",
    "    answer = query_qwen_model(prompt)\n",
    "    return context, answer\n"
   ]
  },
  {
   "cell_type": "code",
   "execution_count": null,
   "id": "4a7c3284",
   "metadata": {},
   "outputs": [],
   "source": []
  },
  {
   "cell_type": "code",
   "execution_count": null,
   "id": "546b3895",
   "metadata": {},
   "outputs": [],
   "source": []
  },
  {
   "cell_type": "code",
   "execution_count": 1,
   "id": "14274627",
   "metadata": {},
   "outputs": [
    {
     "name": "stderr",
     "output_type": "stream",
     "text": [
      "c:\\Users\\jamal\\PycharmProjects\\rag-llm\\.venv\\Lib\\site-packages\\tqdm\\auto.py:21: TqdmWarning: IProgress not found. Please update jupyter and ipywidgets. See https://ipywidgets.readthedocs.io/en/stable/user_install.html\n",
      "  from .autonotebook import tqdm as notebook_tqdm\n"
     ]
    },
    {
     "ename": "NameError",
     "evalue": "name 'documents' is not defined",
     "output_type": "error",
     "traceback": [
      "\u001b[31m---------------------------------------------------------------------------\u001b[39m",
      "\u001b[31mNameError\u001b[39m                                 Traceback (most recent call last)",
      "\u001b[36mCell\u001b[39m\u001b[36m \u001b[39m\u001b[32mIn[1]\u001b[39m\u001b[32m, line 7\u001b[39m\n\u001b[32m      4\u001b[39m \u001b[38;5;28;01mimport\u001b[39;00m\u001b[38;5;250m \u001b[39m\u001b[34;01mfaiss\u001b[39;00m\n\u001b[32m      6\u001b[39m embedding_model = SentenceTransformer(\u001b[33m\"\u001b[39m\u001b[33mall-MiniLM-L6-v2\u001b[39m\u001b[33m\"\u001b[39m)\n\u001b[32m----> \u001b[39m\u001b[32m7\u001b[39m embeddings = embedding_model.encode(\u001b[43mdocuments\u001b[49m, show_progress_bar=\u001b[38;5;28;01mTrue\u001b[39;00m)\n\u001b[32m      8\u001b[39m embeddings = np.array(embeddings)\n",
      "\u001b[31mNameError\u001b[39m: name 'documents' is not defined"
     ]
    }
   ],
   "source": [
    "# Step 3: Embedding using MiniLM\n",
    "from sentence_transformers import SentenceTransformer\n",
    "import numpy as np\n",
    "import faiss\n",
    "\n",
    "embedding_model = SentenceTransformer(\"all-MiniLM-L6-v2\")\n",
    "embeddings = embedding_model.encode(documents, show_progress_bar=True)\n",
    "embeddings = np.array(embeddings)"
   ]
  },
  {
   "cell_type": "code",
   "execution_count": 5,
   "id": "5d97c814",
   "metadata": {},
   "outputs": [],
   "source": [
    "# Step 4: FAISS Index\n",
    "index = faiss.IndexFlatL2(embeddings.shape[1])\n",
    "index.add(embeddings)"
   ]
  },
  {
   "cell_type": "code",
   "execution_count": 6,
   "id": "1fb8a168",
   "metadata": {},
   "outputs": [],
   "source": [
    "# Save index to a file\n",
    "faiss.write_index(index, \"my_index.faiss\")"
   ]
  },
  {
   "cell_type": "code",
   "execution_count": 7,
   "id": "5100ffb1",
   "metadata": {},
   "outputs": [],
   "source": [
    "# Load from the file\n",
    "index = faiss.read_index(\"my_index.faiss\")"
   ]
  },
  {
   "cell_type": "code",
   "execution_count": 8,
   "id": "95873d75",
   "metadata": {},
   "outputs": [],
   "source": [
    "# Step 5: Retrieval Function\n",
    "def retrieve(query: str, top_k: int = 3) -> List[str]:\n",
    "    query_vec = embedding_model.encode([query])\n",
    "    D, I = index.search(query_vec, top_k)\n",
    "    return [documents[i] for i in I[0]]"
   ]
  },
  {
   "cell_type": "code",
   "execution_count": 9,
   "id": "03466a0d",
   "metadata": {},
   "outputs": [],
   "source": [
    "# Example Query\n",
    "query = \"What are the features of Little Champs Account?\"\n",
    "top_docs = retrieve(query)"
   ]
  },
  {
   "cell_type": "code",
   "execution_count": 10,
   "id": "c213ca2d",
   "metadata": {},
   "outputs": [
    {
     "data": {
      "text/plain": [
       "['Q: What other Value added features does the Little Champs Account have? for Little Champs Account\\nA: Attractive returns on savings account SMS alert service on digital transactions I Net banking services Free education insurance plan – Rs.5,000/- per month for 5 years on savings account & Rs.10,000 per month for 5 years on current account in case of death of the guardian',\n",
       " 'Q: What are the main Features  of the Little Champs Account. for Little Champs Account\\nA: Minimum initial deposit of Rs.100/- Little Champs Savings A/C Free first chequebook* Profit Payment Profit Rate Free debit card* (annual/replacement fees apply). This debit card has the following limits Semi-Annually 0.19 Daily funds Transfer Limit: Rs.100,000/- Daily ATM Withdrawal Limit: Rs.25,000/- Daily POS Limit: Rs.50,000/- * For Current Account only',\n",
       " 'Q: What is the account type of Little Champs Account is it saving or current ? for Little Champs Account\\nA: This account is offered both in current and savings categories']"
      ]
     },
     "execution_count": 10,
     "metadata": {},
     "output_type": "execute_result"
    }
   ],
   "source": [
    "top_docs"
   ]
  },
  {
   "cell_type": "code",
   "execution_count": null,
   "id": "562e8897",
   "metadata": {},
   "outputs": [],
   "source": []
  },
  {
   "cell_type": "code",
   "execution_count": null,
   "id": "21179c71",
   "metadata": {},
   "outputs": [],
   "source": []
  },
  {
   "cell_type": "code",
   "execution_count": null,
   "id": "2f210b3b",
   "metadata": {},
   "outputs": [],
   "source": [
    "from huggingface_hub import login\n",
    "login(HUGGINGFACE_API_KEY)  # Replace with your Hugging Face API key"
   ]
  },
  {
   "cell_type": "code",
   "execution_count": 12,
   "id": "2c0fe6b2",
   "metadata": {},
   "outputs": [],
   "source": [
    "# Step 6: Load LLM (Llama or Qwen via HuggingFace)\n",
    "from transformers import AutoTokenizer, AutoModelForCausalLM\n",
    "import torch"
   ]
  },
  {
   "cell_type": "code",
   "execution_count": 21,
   "id": "a82601b8",
   "metadata": {},
   "outputs": [
    {
     "name": "stderr",
     "output_type": "stream",
     "text": [
      "Some parameters are on the meta device because they were offloaded to the cpu and disk.\n"
     ]
    }
   ],
   "source": [
    "model_name = \"deepseek-ai/deepseek-coder-1.3b-instruct\"\n",
    "tokenizer = AutoTokenizer.from_pretrained(model_name)\n",
    "model = AutoModelForCausalLM.from_pretrained(\n",
    "    model_name,\n",
    "    device_map=\"auto\",\n",
    "    torch_dtype=torch.float16\n",
    ")"
   ]
  },
  {
   "cell_type": "code",
   "execution_count": 2,
   "id": "1598a2b6",
   "metadata": {},
   "outputs": [
    {
     "name": "stderr",
     "output_type": "stream",
     "text": [
      "Fetching 9 files:  11%|█         | 1/9 [00:00<00:05,  1.46it/s]Error while downloading from https://cdn-lfs-us-1.hf.co/repos/ce/fb/cefbbf2dab4f425037697081a326fd0bcaf8af239e502d6573186402ee2a5b31/0f3cee31dbcc5e416a7cc54361675717bf1ac2cce9e651f767b2fc60cba12ff5?response-content-disposition=inline%3B+filename*%3DUTF-8%27%27pytorch_model.bin%3B+filename%3D%22pytorch_model.bin%22%3B&response-content-type=application%2Foctet-stream&Expires=1747752195&Policy=eyJTdGF0ZW1lbnQiOlt7IkNvbmRpdGlvbiI6eyJEYXRlTGVzc1RoYW4iOnsiQVdTOkVwb2NoVGltZSI6MTc0Nzc1MjE5NX19LCJSZXNvdXJjZSI6Imh0dHBzOi8vY2RuLWxmcy11cy0xLmhmLmNvL3JlcG9zL2NlL2ZiL2NlZmJiZjJkYWI0ZjQyNTAzNzY5NzA4MWEzMjZmZDBiY2FmOGFmMjM5ZTUwMmQ2NTczMTg2NDAyZWUyYTViMzEvMGYzY2VlMzFkYmNjNWU0MTZhN2NjNTQzNjE2NzU3MTdiZjFhYzJjY2U5ZTY1MWY3NjdiMmZjNjBjYmExMmZmNT9yZXNwb25zZS1jb250ZW50LWRpc3Bvc2l0aW9uPSomcmVzcG9uc2UtY29udGVudC10eXBlPSoifV19&Signature=QbwltIRX03glRf%7E003f8%7ENPsD3vKcIT1yDfWqMSyw334oFihPDU5teWiVVtfV4EJNqOadt2a4jxmN-fhnX-5RCd26gDv1EF2sDGwxOQu62UOwnY87sx5aiUShQ6qTpd8yrYT3h2PYMHfTBa8BblbGyc9f-6iBMjTqxnrqyo2OnC%7E1vZz0prvcGIRbIBZt1PGpRgP7yqi-j9aJMgV9p7I7d80O%7Ezic0gelK5aba1jC-wQnCy9txjz8esk3dgr5VssaWBpLCzeiOr%7EPM%7EgXJ1NrnhytGZS34g4uizA9P9ONmApEbzIhOr7KBFdI%7EbFk88TxuRR5TUfJkA0Wsh7hT4zjQ__&Key-Pair-Id=K24J24Z295AEI9: HTTPSConnectionPool(host='cdn-lfs-us-1.hf.co', port=443): Read timed out.\n",
      "Trying to resume download...\n",
      "Fetching 9 files: 100%|██████████| 9/9 [23:30<00:00, 156.69s/it]"
     ]
    },
    {
     "name": "stdout",
     "output_type": "stream",
     "text": [
      "C:\\Users\\jamal\\.cache\\huggingface\\hub\\models--deepseek-ai--deepseek-coder-1.3b-instruct\\snapshots\\e063262dac8366fc1f28a4da0ff3c50ea66259ca\n"
     ]
    },
    {
     "name": "stderr",
     "output_type": "stream",
     "text": [
      "\n"
     ]
    }
   ],
   "source": [
    "from huggingface_hub import snapshot_download\n",
    "\n",
    "local_path = snapshot_download(\"deepseek-ai/deepseek-coder-1.3b-instruct\")\n",
    "print(local_path)"
   ]
  },
  {
   "cell_type": "code",
   "execution_count": 6,
   "id": "4e4afd35",
   "metadata": {},
   "outputs": [
    {
     "name": "stderr",
     "output_type": "stream",
     "text": [
      "Some parameters are on the meta device because they were offloaded to the cpu and disk.\n"
     ]
    }
   ],
   "source": [
    "from transformers import AutoTokenizer, AutoModelForCausalLM\n",
    "\n",
    "model_path = r\"C:\\Users\\jamal\\.cache\\huggingface\\hub\\models--deepseek-ai--deepseek-coder-1.3b-instruct\\snapshots\\e063262dac8366fc1f28a4da0ff3c50ea66259ca\"\n",
    "\n",
    "tokenizer = AutoTokenizer.from_pretrained(model_path)\n",
    "model = AutoModelForCausalLM.from_pretrained(\n",
    "model_path,\n",
    "device_map=\"auto\",\n",
    "torch_dtype=torch.float16\n",
    ")"
   ]
  },
  {
   "cell_type": "code",
   "execution_count": 24,
   "id": "c1db61f0",
   "metadata": {},
   "outputs": [],
   "source": [
    "# tokenizer = AutoTokenizer.from_pretrained(\"microsoft/Phi-4-mini-reasoning\")\n",
    "# model = AutoModelForCausalLM.from_pretrained(\"microsoft/Phi-4-mini-reasoning\")\n",
    "\n",
    "# model_id = \"meta-llama/Llama-3.1-8B-Instruct\"\n",
    "# model_id = \"Qwen/Qwen3-1.7B\"\n",
    "# model_id = \"Qwen/Qwen3-4B\"\n",
    "\n",
    "# tokenizer = AutoTokenizer.from_pretrained(model_id, trust_remote_code=True)\n",
    "# model = AutoModelForCausalLM.from_pretrained(\n",
    "#     model_id,\n",
    "#     device_map=\"auto\",\n",
    "#     torch_dtype=torch.float16,\n",
    "#     trust_remote_code=True\n",
    "# )\n",
    "\n",
    "# model.eval()"
   ]
  },
  {
   "cell_type": "code",
   "execution_count": 15,
   "id": "6cb87b39",
   "metadata": {},
   "outputs": [],
   "source": [
    "from typing import List\n",
    "\n",
    "def retrieve_and_answer(query: str, top_k: int = 3, max_new_tokens=200) -> str:\n",
    "    \"\"\"\n",
    "    Retrieves top-k most relevant document chunks and generates an answer using an instruction-tuned LLM.\n",
    "    \"\"\"\n",
    "    # Step 1: Encode the query\n",
    "    query_vec = embedding_model.encode([query])\n",
    "\n",
    "    # Step 2: Search the FAISS index\n",
    "    distances, indices = index.search(query_vec, top_k)\n",
    "    retrieved_chunks = [documents[i] for i in indices[0]]\n",
    "\n",
    "    # Step 3: Build the prompt\n",
    "    context = \"\\n\\n\".join(retrieved_chunks)\n",
    "    prompt = f\"\"\"You are a helpful bank assistant.\n",
    "Use the context to answer customer queries clearly and accurately. Also, behave politely. If the question is out-of-domain, say you cannot help with that.\n",
    "\n",
    "Context:\n",
    "{context}\n",
    "\n",
    "Question:\n",
    "{query}\n",
    "\n",
    "Answer:\"\"\"\n",
    "\n",
    "    # Step 4: Tokenize and generate response\n",
    "    inputs = tokenizer(prompt, return_tensors=\"pt\", truncation=True).to(model.device)\n",
    "\n",
    "    # Generate\n",
    "    outputs = model.generate(\n",
    "        **inputs,\n",
    "        max_new_tokens=max_new_tokens,\n",
    "        temperature=0.7,\n",
    "        do_sample=True,\n",
    "        top_k=50,\n",
    "        top_p=0.95\n",
    "    )\n",
    "\n",
    "    # Decode & clean\n",
    "    full_output = tokenizer.decode(outputs[0], skip_special_tokens=True)\n",
    "    if \"Answer:\" in full_output:\n",
    "        return full_output.split(\"Answer:\")[-1].strip()\n",
    "    return full_output.strip()\n"
   ]
  },
  {
   "cell_type": "code",
   "execution_count": 16,
   "id": "592fa8ab",
   "metadata": {},
   "outputs": [
    {
     "name": "stderr",
     "output_type": "stream",
     "text": [
      "Setting `pad_token_id` to `eos_token_id`:32021 for open-end generation.\n"
     ]
    },
    {
     "name": "stdout",
     "output_type": "stream",
     "text": [
      "The profit rate for NUST Asaan Account is 19.00%\n"
     ]
    }
   ],
   "source": [
    "query = \"What is the profit rate for NUST Asaan Account?\"\n",
    "print(retrieve_and_answer(query))"
   ]
  },
  {
   "cell_type": "code",
   "execution_count": null,
   "id": "33ecbbb3",
   "metadata": {},
   "outputs": [],
   "source": []
  },
  {
   "cell_type": "code",
   "execution_count": 18,
   "id": "a94c4f9b",
   "metadata": {},
   "outputs": [
    {
     "name": "stderr",
     "output_type": "stream",
     "text": [
      "Batches: 100%|██████████| 11/11 [00:13<00:00,  1.20s/it]\n"
     ]
    }
   ],
   "source": [
    "\n",
    "embedding_model = SentenceTransformer(\"all-MiniLM-L6-v2\")\n",
    "embeddings = embedding_model.encode(documents, show_progress_bar=True)\n",
    "embeddings = np.array(embeddings)"
   ]
  },
  {
   "cell_type": "code",
   "execution_count": 20,
   "id": "a33df2ab",
   "metadata": {},
   "outputs": [
    {
     "data": {
      "text/plain": [
       "array([[ 0.01067686,  0.11429954, -0.05263795, ..., -0.00711991,\n",
       "         0.00535193,  0.00982509],\n",
       "       [ 0.01119902,  0.09008457, -0.09782137, ..., -0.01622126,\n",
       "        -0.01364005,  0.02279177],\n",
       "       [ 0.02479239,  0.11290911, -0.02742065, ...,  0.01231725,\n",
       "         0.00860872,  0.00312407],\n",
       "       ...,\n",
       "       [ 0.00422421, -0.0483009 , -0.02617159, ...,  0.04805793,\n",
       "         0.10799947,  0.00687814],\n",
       "       [ 0.00561527,  0.0600477 , -0.05437011, ...,  0.09230928,\n",
       "         0.06637407,  0.04154782],\n",
       "       [ 0.03403336, -0.00168171, -0.03410652, ...,  0.05156418,\n",
       "         0.14887944,  0.03663563]], shape=(335, 384), dtype=float32)"
      ]
     },
     "execution_count": 20,
     "metadata": {},
     "output_type": "execute_result"
    }
   ],
   "source": [
    "embeddings"
   ]
  },
  {
   "cell_type": "code",
   "execution_count": 19,
   "id": "d55163a2",
   "metadata": {},
   "outputs": [],
   "source": [
    "# Step 1: Load and prepare combined_qa.json\n",
    "def load_qa_pairs(json_path=\"combined_qa.json\"):\n",
    "    with open(json_path, \"r\", encoding=\"utf-8\") as f:\n",
    "        data = json.load(f)\n",
    "    return data  # A list of {\"question\": ..., \"answer\": ...}\n",
    "\n",
    "\n",
    "# Step 2: Embed all QA questions using GEDA-Age (here, SentenceTransformer)\n",
    "def get_qa_embeddings(qa_pairs):\n",
    "    questions = [pair[\"question\"] for pair in qa_pairs]\n",
    "    embeddings = embedding_model.encode(questions, convert_to_tensor=True, normalize_embeddings=True)\n",
    "    return embeddings\n",
    "\n",
    "\n",
    "# Step 3: Find Top 3 Most Relevant QA Pairs for a Query\n",
    "def retrieve_top_k_qa_pairs(query, qa_pairs, k=3):\n",
    "    qa_embeddings = get_qa_embeddings(qa_pairs)\n",
    "    query_embedding = embedding_model.encode(query, convert_to_tensor=True, normalize_embeddings=True)\n",
    "\n",
    "    # Compute cosine similarity\n",
    "    scores = torch.matmul(qa_embeddings, query_embedding)\n",
    "\n",
    "    # Get top k indices\n",
    "    top_k_indices = torch.topk(scores, k=k).indices.tolist()\n",
    "    \n",
    "    top_k_pairs = [qa_pairs[i] for i in top_k_indices]\n",
    "    return top_k_pairs"
   ]
  },
  {
   "cell_type": "code",
   "execution_count": 21,
   "id": "05731cb5",
   "metadata": {},
   "outputs": [],
   "source": [
    "QA_PATH = \"data_preprocessing/output/combined_qa.json\""
   ]
  },
  {
   "cell_type": "code",
   "execution_count": 22,
   "id": "294d7cce",
   "metadata": {},
   "outputs": [
    {
     "data": {
      "text/plain": [
       "[{'question': 'What is the current Mark-up rate of Ask Fauri Business Finance? for NUST Fauri Business Finance',\n",
       "  'answer': 'AFBF-1: 3MK /COD +1.50%\\nAFBF-2: 12 MK /COD +2.0%\\nAFBF-3: As per SOC\\nAFBF-4: As per SOC'},\n",
       " {'question': 'What is the markup repayment frequency in Ask Fauri Business Finance? for NUST Fauri Business Finance',\n",
       "  'answer': 'AFBF-1: Monthly / Quarterly\\nAFBF-2: Monthly / Quarterly\\nAFBF-3: Upfront\\nAFBF-4: Upfront'},\n",
       " {'question': 'What is the maximum tenure of Ask Fauri Business Finance? for NUST Fauri Business Finance',\n",
       "  'answer': 'AFBF-1: Up to 1 Year\\nAFBF-2: Up to 3 Year\\nAFBF-3: Up to 30 Months\\nAFBF-4: At Sight / Usance period 120 days'}]"
      ]
     },
     "execution_count": 22,
     "metadata": {},
     "output_type": "execute_result"
    }
   ],
   "source": [
    "qa_pairs = load_qa_pairs(QA_PATH)\n",
    "top_3_context = retrieve_top_k_qa_pairs(\"What is the current markup rate of ask fauri business finance?\", qa_pairs)\n",
    "top_3_context"
   ]
  },
  {
   "cell_type": "code",
   "execution_count": null,
   "id": "66e7f0b5",
   "metadata": {},
   "outputs": [],
   "source": []
  }
 ],
 "metadata": {
  "kernelspec": {
   "display_name": ".venv",
   "language": "python",
   "name": "python3"
  },
  "language_info": {
   "codemirror_mode": {
    "name": "ipython",
    "version": 3
   },
   "file_extension": ".py",
   "mimetype": "text/x-python",
   "name": "python",
   "nbconvert_exporter": "python",
   "pygments_lexer": "ipython3",
   "version": "3.11.1"
  }
 },
 "nbformat": 4,
 "nbformat_minor": 5
}
